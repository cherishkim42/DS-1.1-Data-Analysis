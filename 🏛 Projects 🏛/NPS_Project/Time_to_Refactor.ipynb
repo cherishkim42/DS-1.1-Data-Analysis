{
 "cells": [
  {
   "cell_type": "markdown",
   "metadata": {},
   "source": [
    "# 🔃 Refactoring! 🔃\n",
    "<font size=\"-0.5\">*SPD 1.3 assignment*</font>\n",
    "\n",
    "## Project Description\n",
    "\n",
    "Students enrolled in DS 1.1 Data Analysis 📈completed the <b>Net Score Promoter</b> assignment to further our understanding of data cleaning 🛁and visualization 🤓. We looked at anonymous survey responses from individuals who took part in the Make School Summer Academy. They were categorized as <b>promoters</b> 😍, <b>passives</b> 😐, or <b>detractors</b> 😡 based on their responses.\n",
    "\n",
    "Raw material for data analysis is often stored in <b>CSV</b> files ('<i>Comma-Separated Values</i>'). The data for this project spanned across <b>dozens</b> of such files. 🙀 The most <b>effective</b> 💯 solution would have entailed programmatic automation.\n",
    "\n",
    "## *Did I do this?* 💔 Nope!\n",
    "\n",
    "I manually opened <b>every single</b> individual CSV file. 😵 Like so:\n",
    "```python\n",
    "LA1 = pd.read_csv('Anon Week 1 Feedback - LA.csv')\n",
    "NY1 = pd.read_csv('Anon Week 1 Feedback - NY.csv')\n",
    "SF1 = pd.read_csv('Anon Week 1 Feedback - SF.csv')\n",
    "SG1 = pd.read_csv('Anon Week 1 Feedback - Singapore.csv')\n",
    "SV1 = pd.read_csv('Anon Week 1 Feedback - SV.csv')\n",
    "LA2 = pd.read_csv('Anon Week 2 Feedback - LA.csv')\n",
    "...\n",
    "SG7 = pd.read_csv('Anon Week 7 Feedback - SV.csv')\n",
    "SV7 = pd.read_csv('Anon Week 7 Feedback - SV.csv')\n",
    "```\n",
    "\n",
    "By the time I realized my mistake, I was over halfway done with my Sisyphean task. 🙄😭\n",
    "\n",
    "Writing functions would have saved me immense trouble and effort ⏳, so this is the aim of refactoring my NPS project!"
   ]
  },
  {
   "cell_type": "markdown",
   "metadata": {},
   "source": [
    "# 📦 Import packages\n",
    "\n",
    "Remains unchanged, with one exception: I added ```import glob```. The ```glob``` module 🍮 finds all pathnames matching a specified pattern!\n",
    "\n",
    "*I think that's dulce de leche. It looks sorta globby.*"
   ]
  },
  {
   "cell_type": "code",
   "execution_count": 1,
   "metadata": {},
   "outputs": [],
   "source": [
    "import math\n",
    "import csv\n",
    "import glob\n",
    "import numpy as np\n",
    "import pandas as pd\n",
    "import seaborn as sns\n",
    "import matplotlib.pyplot as plt\n",
    "from scipy import stats"
   ]
  },
  {
   "cell_type": "markdown",
   "metadata": {},
   "source": [
    "# 🧭 Navigate to the directory storing CSVs\n",
    "\n",
    "Cells in <b>Jupyter Notebooks</b> can be used like Terminal! Let me show you:"
   ]
  },
  {
   "cell_type": "code",
   "execution_count": 2,
   "metadata": {},
   "outputs": [
    {
     "name": "stdout",
     "output_type": "stream",
     "text": [
      "NPS_Project.ipynb                  SA Feedback Surveys 2016-2017.zip\r\n",
      "NPS_Project.slides.html            SSOT_legwork.ipynb\r\n",
      "\u001b[1m\u001b[36mSA\u001b[m\u001b[m/                                Time_to_Refactor.ipynb\r\n"
     ]
    }
   ],
   "source": [
    "ls"
   ]
  },
  {
   "cell_type": "code",
   "execution_count": 3,
   "metadata": {},
   "outputs": [
    {
     "name": "stdout",
     "output_type": "stream",
     "text": [
      "/Users/cherishkim/Code/school_projects/DS11/🏛 Projects 🏛/NPS_Project/SA\n"
     ]
    }
   ],
   "source": [
    "cd SA/"
   ]
  },
  {
   "cell_type": "code",
   "execution_count": 4,
   "metadata": {},
   "outputs": [
    {
     "name": "stdout",
     "output_type": "stream",
     "text": [
      "\u001b[1m\u001b[36m2016\u001b[m\u001b[m/     \u001b[1m\u001b[36m2016.wk8\u001b[m\u001b[m/ \u001b[1m\u001b[36m2017\u001b[m\u001b[m/     ssot.pkl\r\n"
     ]
    }
   ],
   "source": [
    "ls"
   ]
  },
  {
   "cell_type": "code",
   "execution_count": 5,
   "metadata": {},
   "outputs": [
    {
     "name": "stdout",
     "output_type": "stream",
     "text": [
      "/Users/cherishkim/Code/school_projects/DS11/🏛 Projects 🏛/NPS_Project/SA/2016\n"
     ]
    }
   ],
   "source": [
    "cd 2016/"
   ]
  },
  {
   "cell_type": "code",
   "execution_count": 6,
   "metadata": {},
   "outputs": [
    {
     "name": "stdout",
     "output_type": "stream",
     "text": [
      "Anon Week 1 Feedback - LA.csv         Anon Week 5 Feedback - HK.csv\r\n",
      "Anon Week 1 Feedback - NY.csv         Anon Week 5 Feedback - LA.csv\r\n",
      "Anon Week 1 Feedback - SF.csv         Anon Week 5 Feedback - NY.csv\r\n",
      "Anon Week 1 Feedback - SV.csv         Anon Week 5 Feedback - SF.csv\r\n",
      "Anon Week 1 Feedback - Singapore.csv  Anon Week 5 Feedback - SG.csv\r\n",
      "Anon Week 2 Feedback - LA.csv         Anon Week 5 Feedback - SV.csv\r\n",
      "Anon Week 2 Feedback - NY.csv         Anon Week 6 Feedback - HK.csv\r\n",
      "Anon Week 2 Feedback - SF.csv         Anon Week 6 Feedback - LA.csv\r\n",
      "Anon Week 2 Feedback - SG.csv         Anon Week 6 Feedback - NY.csv\r\n",
      "Anon Week 2 Feedback - SV.csv         Anon Week 6 Feedback - SF.csv\r\n",
      "Anon Week 3 Feedback - LA.csv         Anon Week 6 Feedback - SG.csv\r\n",
      "Anon Week 3 Feedback - NY.csv         Anon Week 6 Feedback - SV.csv\r\n",
      "Anon Week 3 Feedback - SF.csv         Anon Week 6 Feedback - Taipei.csv\r\n",
      "Anon Week 3 Feedback - SG.csv         Anon Week 6 Feedback - Tokyo.csv\r\n",
      "Anon Week 3 Feedback - SV.csv         Anon Week 7 Feedback - LA.csv\r\n",
      "Anon Week 4 Feedback - LA.csv         Anon Week 7 Feedback - NY.csv\r\n",
      "Anon Week 4 Feedback - NY.csv         Anon Week 7 Feedback - SF.csv\r\n",
      "Anon Week 4 Feedback - SF.csv         Anon Week 7 Feedback - SV.csv\r\n",
      "Anon Week 4 Feedback - SG.csv         Anon Week 7 Feedback - Taipei.csv\r\n",
      "Anon Week 4 Feedback - SV.csv\r\n"
     ]
    }
   ],
   "source": [
    "ls"
   ]
  },
  {
   "cell_type": "markdown",
   "metadata": {},
   "source": [
    "# 📝 Time to programmatically speed things up!\n",
    "My variable names did not follow Python convention originally (ex. 'step1' instead of 'step_1'. I aim to follow convention here."
   ]
  },
  {
   "cell_type": "code",
   "execution_count": 7,
   "metadata": {},
   "outputs": [],
   "source": [
    "step_1 = []\n",
    "\n",
    "#glob finds all pathnames matching a specified pattern.\n",
    "#Literally anything could be in place of the asterisk and it'd match\n",
    "for f in glob.glob('Anon Week*.csv'): #for ea. file name matching this pattern,\n",
    "    split_title = f.split(' ') #split the title at whitespace\n",
    "    week = split_title[2] #index 2 in split_title array is week #\n",
    "    location = split_title[5].split('.')[0] #remove .csv from the end\n",
    "    \n",
    "    #read the CSV file\n",
    "    temp_partial_2k16 = pd.read_csv(f)\n",
    "    \n",
    "    #add columns for week and location from file title\n",
    "    temp_partial_2k16['Week'] = week\n",
    "    temp_partial_2k16['Location'] = location\n",
    "    \n",
    "    #append completed temp_partial_2k16 dataframe to list\n",
    "    step_1.append(temp_partial_2k16)"
   ]
  },
  {
   "cell_type": "markdown",
   "metadata": {},
   "source": [
    "### 🍮```glob``` to the rescue! \n",
    "\n",
    "### 🔂 If it works, this for loop will have done the job with <10 lines of code.\n",
    "\n",
    "### 🤯 ***But does it work?*** I'll use the ```pandas``` library to try **concatenating** all the dataframes stored in **step_1** together. Then I'll use ```.head(3)``` to show the first three entries of that huge, cumulative dataframe.\n",
    "\n",
    "### 🤔 **If it works**, those first three entries will appear. **If it doesn't work**, I'll get an error."
   ]
  },
  {
   "cell_type": "code",
   "execution_count": 8,
   "metadata": {},
   "outputs": [
    {
     "data": {
      "text/html": [
       "<div>\n",
       "<style scoped>\n",
       "    .dataframe tbody tr th:only-of-type {\n",
       "        vertical-align: middle;\n",
       "    }\n",
       "\n",
       "    .dataframe tbody tr th {\n",
       "        vertical-align: top;\n",
       "    }\n",
       "\n",
       "    .dataframe thead th {\n",
       "        text-align: right;\n",
       "    }\n",
       "</style>\n",
       "<table border=\"1\" class=\"dataframe\">\n",
       "  <thead>\n",
       "    <tr style=\"text-align: right;\">\n",
       "      <th></th>\n",
       "      <th>Timestamp</th>\n",
       "      <th>How would you rate your overall satisfaction with the Summer Academy this week?</th>\n",
       "      <th>How well is the schedule paced?</th>\n",
       "      <th>Week</th>\n",
       "      <th>Location</th>\n",
       "      <th>How well are the tutorials paced?</th>\n",
       "      <th>What track are you in?</th>\n",
       "      <th>Unnamed: 0</th>\n",
       "    </tr>\n",
       "  </thead>\n",
       "  <tbody>\n",
       "    <tr>\n",
       "      <th>0</th>\n",
       "      <td>8/5/2016 1:39:41</td>\n",
       "      <td>3</td>\n",
       "      <td>3</td>\n",
       "      <td>7</td>\n",
       "      <td>Taipei</td>\n",
       "      <td>NaN</td>\n",
       "      <td>NaN</td>\n",
       "      <td>NaN</td>\n",
       "    </tr>\n",
       "    <tr>\n",
       "      <th>1</th>\n",
       "      <td>8/5/2016 1:40:47</td>\n",
       "      <td>4</td>\n",
       "      <td>3</td>\n",
       "      <td>7</td>\n",
       "      <td>Taipei</td>\n",
       "      <td>NaN</td>\n",
       "      <td>NaN</td>\n",
       "      <td>NaN</td>\n",
       "    </tr>\n",
       "    <tr>\n",
       "      <th>2</th>\n",
       "      <td>8/5/2016 1:40:50</td>\n",
       "      <td>4</td>\n",
       "      <td>3</td>\n",
       "      <td>7</td>\n",
       "      <td>Taipei</td>\n",
       "      <td>NaN</td>\n",
       "      <td>NaN</td>\n",
       "      <td>NaN</td>\n",
       "    </tr>\n",
       "  </tbody>\n",
       "</table>\n",
       "</div>"
      ],
      "text/plain": [
       "          Timestamp  \\\n",
       "0  8/5/2016 1:39:41   \n",
       "1  8/5/2016 1:40:47   \n",
       "2  8/5/2016 1:40:50   \n",
       "\n",
       "  How would you rate your overall satisfaction with the Summer Academy this week?  \\\n",
       "0                                                  3                                \n",
       "1                                                  4                                \n",
       "2                                                  4                                \n",
       "\n",
       "  How well is the schedule paced? Week Location  \\\n",
       "0                               3    7   Taipei   \n",
       "1                               3    7   Taipei   \n",
       "2                               3    7   Taipei   \n",
       "\n",
       "   How well are the tutorials paced? What track are you in? Unnamed: 0  \n",
       "0                                NaN                    NaN        NaN  \n",
       "1                                NaN                    NaN        NaN  \n",
       "2                                NaN                    NaN        NaN  "
      ]
     },
     "execution_count": 8,
     "metadata": {},
     "output_type": "execute_result"
    }
   ],
   "source": [
    "results_partial_2k16 = pd.concat(step_1, ignore_index = True, sort=False)\n",
    "results_partial_2k16.head(3)"
   ]
  },
  {
   "cell_type": "markdown",
   "metadata": {},
   "source": [
    "## Mission accomplished! 🎉\n",
    "# This refactor has been a SUCCESS!! 🔥💯💥"
   ]
  },
  {
   "cell_type": "code",
   "execution_count": null,
   "metadata": {},
   "outputs": [],
   "source": []
  }
 ],
 "metadata": {
  "kernelspec": {
   "display_name": "Python 3",
   "language": "python",
   "name": "python3"
  },
  "language_info": {
   "codemirror_mode": {
    "name": "ipython",
    "version": 3
   },
   "file_extension": ".py",
   "mimetype": "text/x-python",
   "name": "python",
   "nbconvert_exporter": "python",
   "pygments_lexer": "ipython3",
   "version": "3.7.1"
  }
 },
 "nbformat": 4,
 "nbformat_minor": 2
}
