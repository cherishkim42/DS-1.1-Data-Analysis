{
 "cells": [
  {
   "cell_type": "markdown",
   "metadata": {},
   "source": [
    "# Null Hypothesis & Confidence Interval"
   ]
  },
  {
   "cell_type": "markdown",
   "metadata": {},
   "source": [
    "# Null Hypothesis"
   ]
  },
  {
   "cell_type": "markdown",
   "metadata": {},
   "source": [
    "**Formal definition:** The formal methods of reaching conclusinos based on the population stats and sample data where we apply changes to the population\n",
    "\n",
    "**SF STANDS FOR SURVIVAL FUNCTION**\n",
    "\n",
    "* **Scenario A:** We know the *population size* and the population's *standard deviation* (σ). We apply changes, and **now**, we are in....\n",
    "* **Scenario B:** We gather *n* samples from the population.\n",
    "    * **x̄** : sample mean\n",
    "    * **n** : number of samples taken\n",
    "    * **s** : sample standard deviation\n",
    "* **Goal:** Have conclusion about population mean for B.\n",
    "* **Define:** Significant level (\n",
    "\n",
    "* **Null:** H0: μA = μB\n",
    "* **Z-distribution:** H1: μA != μB\n",
    "* ***For either of the above:*** If σ or n >= 30:\n",
    "    * **z_score** = (x̄ - μA)/(σ/(sqrt(n)))\n",
    "    * **p_value** = 2 * stats.norm.sf(|Z-score|)\n",
    "        * **stats.norm.cdf(-np.abs(z))**\n",
    "* **In contrast,** if n < 30 or σ is unknown:\n",
    "    * **t_score** = (x̄ - μA)/(S/(sqrt(n)))\n",
    "        * S = Standard Dev\n",
    "    * **p_value** = 2tSF(|T-score|)\n",
    "        * don't worry about the syntax. Just use:\n",
    "        * **stats.ttest_1samp**\n",
    "\n",
    "1. **If** p_value < σ **reject  null hypothesis.**\n",
    "1. **Else**, we **accept null hypothesis.**\n",
    "\n",
    "Testing assumes:\n",
    "* There's a relationship between our test variable (drug) and our other variable (rat reaction)\n",
    "* That relationship ISN'T cause by chance or errors (ex. what the rats ate)"
   ]
  },
  {
   "cell_type": "code",
   "execution_count": 38,
   "metadata": {},
   "outputs": [],
   "source": [
    "from scipy import stats\n",
    "import numpy as np\n",
    "import pandas as pd"
   ]
  },
  {
   "cell_type": "markdown",
   "metadata": {},
   "source": [
    "## Z-test activity:"
   ]
  },
  {
   "cell_type": "code",
   "execution_count": 2,
   "metadata": {},
   "outputs": [],
   "source": [
    "# Function that has these values. Should we accept or reject the null hypothesis?"
   ]
  },
  {
   "cell_type": "markdown",
   "metadata": {},
   "source": [
    "Rats"
   ]
  },
  {
   "cell_type": "markdown",
   "metadata": {},
   "source": [
    "* **Significant level** α = 0.05\n",
    "* **Population number** N = 100\n",
    "* **Population mean A** μA = 1.2 sec\n",
    "* **Standard dev** σ = 0.5 sec\n",
    "* **Sample mean** x̄ = 1.05\n",
    "\n",
    "(1.05-1.2)/(0.5/(10))\n",
    "\n",
    "1-norm(cdf) = pvalue"
   ]
  },
  {
   "cell_type": "code",
   "execution_count": 14,
   "metadata": {},
   "outputs": [
    {
     "name": "stdout",
     "output_type": "stream",
     "text": [
      "-2.9999999999999982\n"
     ]
    }
   ],
   "source": [
    "zscore = (1.05-1.2)/(0.5/(10))\n",
    "# 1-norm(cdf) = pvalue\n",
    "# This number is the z score\n",
    "print(zscore)"
   ]
  },
  {
   "cell_type": "code",
   "execution_count": 20,
   "metadata": {
    "scrolled": true
   },
   "outputs": [
    {
     "name": "stdout",
     "output_type": "stream",
     "text": [
      "0.0026997960632602026\n"
     ]
    }
   ],
   "source": [
    "# pval formula: pval = 2SF(Zscore)\n",
    "pval = 2 * stats.norm.cdf(-np.abs(zscore))\n",
    "print(pval)"
   ]
  },
  {
   "cell_type": "markdown",
   "metadata": {},
   "source": [
    "### Actual function"
   ]
  },
  {
   "cell_type": "code",
   "execution_count": 23,
   "metadata": {},
   "outputs": [],
   "source": [
    "def null_hyp(mu, sample_mean, sig_level, n, sigma):\n",
    "    # Calc standard dev of the sampling distribution\n",
    "    sample_std = sigma / n\n",
    "    # Calc z-score from population mean (mu), sample mean, and sample std\n",
    "    z = (sample_mean - mu) / sample_std\n",
    "    \n",
    "    #Calc p-value from z-score\n",
    "    p = 2 * stats.norm.cdf(-np.abs(z))\n",
    "    \n",
    "    #Determine whether to accept/reject null hypothesis\n",
    "    if p < sig_level:\n",
    "        print('reject null hypothesis')\n",
    "    else:\n",
    "        print('accept null hypothesis')"
   ]
  },
  {
   "cell_type": "code",
   "execution_count": 24,
   "metadata": {},
   "outputs": [
    {
     "name": "stdout",
     "output_type": "stream",
     "text": [
      "reject null hypothesis\n"
     ]
    }
   ],
   "source": [
    "null_hyp(1.2, 1.05, 0.05, 100, 0.5)"
   ]
  },
  {
   "cell_type": "markdown",
   "metadata": {},
   "source": [
    "Yay, it matches."
   ]
  },
  {
   "cell_type": "markdown",
   "metadata": {},
   "source": [
    "## T-test activity:\n",
    "\n",
    "The average British man is 175.3 cm tall. A survey recorded the heights of 10 British men. Calculate the t-score from formula and use available function in `stats.ttest_1samp`. Compare what you will get\n",
    "\n",
    "`x = [177.3, 182.7, 169.6, 176.3, 180.3, 179.4, 178.5, 177.2, 181.8, 176.5]`"
   ]
  },
  {
   "cell_type": "code",
   "execution_count": 31,
   "metadata": {},
   "outputs": [
    {
     "name": "stdout",
     "output_type": "stream",
     "text": [
      "t-statistic:  2.295568968083183\n",
      "t =  2.295568968083183 , p =  0.04734137339747034\n"
     ]
    }
   ],
   "source": [
    "x = [177.3, 182.7, 169.6, 176.3, 180.3, 179.4, 178.5, 177.2, 181.8, 176.5]\n",
    "mu = 175.3\n",
    "sample_mean = np.array(x).mean()\n",
    "\n",
    "# Calc the standard deviation of sample distribution\n",
    "\n",
    "N = len(x) # num of data samples\n",
    "S = np.array(x).std(ddof=1)\n",
    "den = S / np.sqrt(N)\n",
    "\n",
    "# T-test from formula\n",
    "t = (sample_mean - mu)/den\n",
    "print(\"t-statistic: \",t)\n",
    "\n",
    "# One sample t-test that gives you the p-value too can be done with scipy as follows:\n",
    "# ttest_1samp: Calculate the T-test for the mean of ONE group of scores.\n",
    "# This is a two-sided test for the null hypothesis that the expected value (mean) \\\n",
    "# of a sample of independent observations a is equal to the given population mean, popmean.\n",
    "t, p = stats.ttest_1samp(x, mu)\n",
    "print(\"t = \", t, \", p = \", p)"
   ]
  },
  {
   "cell_type": "markdown",
   "metadata": {},
   "source": [
    "## Write a function that determines whether to use the z-test or t-test in order to accept or reject null hypothesis"
   ]
  },
  {
   "cell_type": "code",
   "execution_count": 33,
   "metadata": {},
   "outputs": [],
   "source": [
    "def z_t_null_hypothesis(data_sample, mu, sigma, sig_level):\n",
    "    if sigma:\n",
    "        z_score = (np.mean(data_sample)-mu)/(sigma/np.sqrt(len(data_sample)))\n",
    "        p = scipy.stats.norm.sf(abs(z_score))*2\n",
    "    elif len(data_sample) > 30:\n",
    "        z_score = (np.mean(data_sample)-mu)/(np.std(data_sample)/np.sqrt(len(data_sample)))\n",
    "        p = scipy.stats.norm.sf(abs(z_score))*2\n",
    "    else:\n",
    "        t, p = stats.ttest_1samp(data_sample, mu)\n",
    "        \n",
    "    if p < sig_level:\n",
    "        print('Reject null hypothesis')\n",
    "    else:\n",
    "        print('Accept null hypothesis')"
   ]
  },
  {
   "cell_type": "markdown",
   "metadata": {},
   "source": [
    "## What is one-tail or two-tail calculation for p-value?\n",
    "\n",
    "If the alternative hypotehsis says the mean of sample is different from the mean of the overall population, we should compute p-value from two-tail. If it says the mean of sample is greater or lower than the mean of population, we should compute one-tail."
   ]
  },
  {
   "cell_type": "markdown",
   "metadata": {},
   "source": [
    "## Possible errors that can happen when we accept or reject the null hypothesis\n",
    "\n",
    "Type I error : We reject the null hypothesis when the null is true\n",
    "\n",
    "$\\alpha$ = P(rejecting $H_o$  $|$  $H_o$ is true)\n",
    "\n",
    "Type II error : We accept the null hypothesis when it is not true\n",
    "\n",
    "$\\beta$ = P(accepting $H_o$ $|$ $H_o$ is false)\n",
    "\n",
    "The drug has effect on brain\n",
    "\n",
    "The drug has no effect on brain"
   ]
  },
  {
   "cell_type": "markdown",
   "metadata": {},
   "source": [
    "## Unpaired t-test\n",
    "\n",
    "This test compares two unrelated samples. In the followinge xample, data was collected on the weight (kg) of 8 elderly women and 8 elderly men. We are intersted in whther the weights of these 2 samples is different."
   ]
  },
  {
   "cell_type": "code",
   "execution_count": 34,
   "metadata": {},
   "outputs": [],
   "source": [
    "# Missed. \n",
    "# female = [63.8, 56.4, 55.2, 58.5, 64.0, 51.6, 54.6, 71.0]\n",
    "# male = [75.5, 83.9, 75.7, 72.5, 56.2, 73.4, 67.7, 87.9]\n",
    "\n",
    "# two_sample"
   ]
  },
  {
   "cell_type": "markdown",
   "metadata": {},
   "source": [
    "## Confidence Interval\n",
    "\n",
    "It's useful to examine an interval for the possible values of the parameter and put a probability on how confident we are that the true parameter value falls inside this interval."
   ]
  },
  {
   "cell_type": "markdown",
   "metadata": {},
   "source": [
    "### EXAMPLE\n",
    "We have the data X and assume we know the population standard deviation (sigma). What is the confidence interval for population mean?"
   ]
  },
  {
   "cell_type": "markdown",
   "metadata": {},
   "source": [
    "\n",
    "$P(L < \\mu < U) = 1 - \\alpha$\n",
    "\n",
    "We want to obtain $L$ and $U$, with 1-$\\alpha$ confidence"
   ]
  },
  {
   "cell_type": "markdown",
   "metadata": {},
   "source": [
    "## From statics references\n",
    "\n",
    "$L = \\bar{x} - z_{1- \\alpha/2}\\frac{\\sigma}{\\sqrt{N}}$\n",
    "\n",
    "$U = \\bar{x} + z_{1- \\alpha/2}\\frac{\\sigma}{\\sqrt{N}}$"
   ]
  },
  {
   "cell_type": "markdown",
   "metadata": {},
   "source": [
    "## Flower time\n",
    "\n",
    "Tasks:\n",
    "\n",
    "1- Explore this dataset. How many features, records and plants does it have?\n",
    "\n",
    "2- Gather all of the sepal length for Iris-setosa\n",
    "\n",
    "3- Write a function that calculate lower and upper bound for mean of sepal length for Iris-setosa with %95 confidence. \n",
    "\n",
    "Assume $\\sigma = 0.3525$\n",
    "\n",
    "That says sigma\n"
   ]
  },
  {
   "cell_type": "markdown",
   "metadata": {},
   "source": [
    "**The functions below aim to find the Lower and Upper bounds of our Confidence Interval.**"
   ]
  },
  {
   "cell_type": "code",
   "execution_count": 70,
   "metadata": {},
   "outputs": [
    {
     "name": "stdout",
     "output_type": "stream",
     "text": [
      "5.006\n",
      "(4.908293780383348, 5.103706219616653)\n",
      "(4.905823539430869, 5.106176460569132)\n"
     ]
    }
   ],
   "source": [
    "df = pd.read_csv(\"Iris.csv\")\n",
    "x = df[df['Species'] == 'Iris-setosa']['SepalLengthCm'].tolist()\n",
    "\n",
    "print(np.mean(x))\n",
    "\n",
    "def ci_z(data_sample, significant_level, sigma):\n",
    "    z = stats.norm.ppf(1-significant_level/2)\n",
    "    L = np.mean(data_sample) - z*sigma/np.sqrt(len(data_sample))\n",
    "    U = np.mean(data_sample) + z*sigma/np.sqrt(len(data_sample))\n",
    "    return L, U\n",
    "\n",
    "\n",
    "def ci_t(data_sample, significant_level):\n",
    "    t = stats.t.ppf(1 - significant_level/2, len(data_sample) - 1)\n",
    "    L = np.mean(data_sample) - t * np.std(data_sample, ddof=1) / np.sqrt(len(data_sample))\n",
    "    U = np.mean(data_sample) + t * np.std(data_sample, ddof=1) / np.sqrt(len(data_sample))\n",
    "    return L, U\n",
    "\n",
    "\n",
    "# Both return lower, upper bounds\n",
    "print(ci_z(x, 0.05, 0.3525))\n",
    "print(ci_t(x,0.05))"
   ]
  },
  {
   "cell_type": "code",
   "execution_count": null,
   "metadata": {},
   "outputs": [],
   "source": []
  }
 ],
 "metadata": {
  "kernelspec": {
   "display_name": "Python 3",
   "language": "python",
   "name": "python3"
  },
  "language_info": {
   "codemirror_mode": {
    "name": "ipython",
    "version": 3
   },
   "file_extension": ".py",
   "mimetype": "text/x-python",
   "name": "python",
   "nbconvert_exporter": "python",
   "pygments_lexer": "ipython3",
   "version": "3.7.1"
  }
 },
 "nbformat": 4,
 "nbformat_minor": 2
}
