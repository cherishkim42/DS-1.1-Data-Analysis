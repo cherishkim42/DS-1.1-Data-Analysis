{
 "cells": [
  {
   "cell_type": "code",
   "execution_count": 1,
   "metadata": {},
   "outputs": [],
   "source": [
    "from scipy import stats\n",
    "import math\n",
    "import csv\n",
    "import numpy as np\n",
    "import pandas as pd\n",
    "import seaborn as sns\n",
    "import matplotlib.pyplot as plt"
   ]
  },
  {
   "cell_type": "code",
   "execution_count": 7,
   "metadata": {},
   "outputs": [
    {
     "name": "stdout",
     "output_type": "stream",
     "text": [
      "/Users/cherishkim/Code/school_projects/DS11/Assignments/DS/NPS Project/SA/CSVs\n"
     ]
    }
   ],
   "source": [
    "cd CSVs"
   ]
  },
  {
   "cell_type": "markdown",
   "metadata": {},
   "source": [
    "# Step 1: Clean and merge 2016 data from weeks 1-7 only."
   ]
  },
  {
   "cell_type": "code",
   "execution_count": 8,
   "metadata": {},
   "outputs": [],
   "source": [
    "LA1 = pd.read_csv(\"Anon Week 1 Feedback - LA.csv\")"
   ]
  },
  {
   "cell_type": "code",
   "execution_count": 9,
   "metadata": {
    "scrolled": true
   },
   "outputs": [],
   "source": [
    "LA1 = LA1.drop(columns=['Timestamp'])"
   ]
  },
  {
   "cell_type": "code",
   "execution_count": 10,
   "metadata": {},
   "outputs": [],
   "source": [
    "LA1 = LA1.rename(index=str, columns={\"How well are the tutorials paced?\": \"How would you rate the curriculum pace?\"})"
   ]
  },
  {
   "cell_type": "code",
   "execution_count": 11,
   "metadata": {},
   "outputs": [],
   "source": [
    "LA1.insert(0, 'Location', 'Los Angeles')\n",
    "LA1.insert(1, 'Week', 'Week 1')"
   ]
  },
  {
   "cell_type": "code",
   "execution_count": 12,
   "metadata": {},
   "outputs": [],
   "source": [
    "NY1 = pd.read_csv(\"Anon Week 1 Feedback - NY.csv\")"
   ]
  },
  {
   "cell_type": "code",
   "execution_count": 13,
   "metadata": {},
   "outputs": [],
   "source": [
    "NY1 = NY1.drop(columns=['Timestamp'])"
   ]
  },
  {
   "cell_type": "code",
   "execution_count": 14,
   "metadata": {},
   "outputs": [],
   "source": [
    "NY1 = NY1.rename(index = str, columns={'How well are the tutorials paced?': 'How would you rate the curriculum pace?', 'What track are you in?': 'Track'})"
   ]
  },
  {
   "cell_type": "code",
   "execution_count": 15,
   "metadata": {},
   "outputs": [],
   "source": [
    "NY1.insert(0, 'Location', 'New York City')\n",
    "NY1.insert(1, 'Week', 'Week 1')"
   ]
  },
  {
   "cell_type": "code",
   "execution_count": 16,
   "metadata": {},
   "outputs": [],
   "source": [
    "SF1 = pd.read_csv(\"Anon Week 1 Feedback - SF.csv\")"
   ]
  },
  {
   "cell_type": "code",
   "execution_count": 17,
   "metadata": {},
   "outputs": [],
   "source": [
    "SF1 = SF1.drop(columns=['Timestamp'])"
   ]
  },
  {
   "cell_type": "code",
   "execution_count": 18,
   "metadata": {},
   "outputs": [],
   "source": [
    "SF1 = SF1.rename(index=str, columns={'How well are the tutorials paced?': 'How would you rate the curriculum pace?', 'What track are you in?': 'Track'})"
   ]
  },
  {
   "cell_type": "code",
   "execution_count": 19,
   "metadata": {},
   "outputs": [],
   "source": [
    "SF1.insert(0, 'Location', 'San Francisco')\n",
    "SF1.insert(1, 'Week', 'Week 1')"
   ]
  },
  {
   "cell_type": "code",
   "execution_count": 20,
   "metadata": {},
   "outputs": [],
   "source": [
    "SG1 = pd.read_csv(\"Anon Week 1 Feedback - Singapore.csv\")"
   ]
  },
  {
   "cell_type": "code",
   "execution_count": 21,
   "metadata": {},
   "outputs": [],
   "source": [
    "SG1 = SG1.drop(columns=['Timestamp'])"
   ]
  },
  {
   "cell_type": "code",
   "execution_count": 22,
   "metadata": {},
   "outputs": [],
   "source": [
    "SG1 = SG1.rename(index=str, columns={'How well are the tutorials paced?': 'How would you rate the curriculum pace?'})"
   ]
  },
  {
   "cell_type": "code",
   "execution_count": 23,
   "metadata": {},
   "outputs": [],
   "source": [
    "SG1.insert(0, 'Location', 'Singapore')\n",
    "SG1.insert(1, 'Week', 'Week 1')"
   ]
  },
  {
   "cell_type": "code",
   "execution_count": 24,
   "metadata": {},
   "outputs": [],
   "source": [
    "SV1 = pd.read_csv(\"Anon Week 1 Feedback - SV.csv\")"
   ]
  },
  {
   "cell_type": "code",
   "execution_count": 25,
   "metadata": {},
   "outputs": [],
   "source": [
    "SV1 = SV1.drop(columns=['Unnamed: 0'])"
   ]
  },
  {
   "cell_type": "code",
   "execution_count": 26,
   "metadata": {},
   "outputs": [],
   "source": [
    "SV1 = SV1.rename(index=str, columns={'What track are you in?': 'Track', 'How well are the tutorials paced?': 'How would you rate the curriculum pace?'})"
   ]
  },
  {
   "cell_type": "code",
   "execution_count": 27,
   "metadata": {},
   "outputs": [],
   "source": [
    "SV1.insert(0, 'Location', 'Sunnyvale')\n",
    "SV1.insert(1, 'Week', 'Week 1')"
   ]
  },
  {
   "cell_type": "code",
   "execution_count": 28,
   "metadata": {},
   "outputs": [],
   "source": [
    "LA2 = pd.read_csv(\"Anon Week 2 Feedback - LA.csv\")"
   ]
  },
  {
   "cell_type": "code",
   "execution_count": 29,
   "metadata": {},
   "outputs": [],
   "source": [
    "LA2 = LA2.drop(columns=['Timestamp'])"
   ]
  },
  {
   "cell_type": "code",
   "execution_count": 30,
   "metadata": {},
   "outputs": [],
   "source": [
    "LA2 = LA2.rename(index=str, columns={'How well is the schedule paced?': 'How would you rate the curriculum pace?'})"
   ]
  },
  {
   "cell_type": "code",
   "execution_count": 31,
   "metadata": {},
   "outputs": [],
   "source": [
    "LA2.insert(0, 'Location', 'Los Angeles')\n",
    "LA2.insert(1, 'Week', 'Week 2')"
   ]
  },
  {
   "cell_type": "code",
   "execution_count": 32,
   "metadata": {},
   "outputs": [],
   "source": [
    "NY2 = pd.read_csv(\"Anon Week 2 Feedback - NY.csv\")"
   ]
  },
  {
   "cell_type": "code",
   "execution_count": 33,
   "metadata": {},
   "outputs": [],
   "source": [
    "NY2 = NY2.drop(columns=['Timestamp'])"
   ]
  },
  {
   "cell_type": "code",
   "execution_count": 34,
   "metadata": {},
   "outputs": [],
   "source": [
    "NY2 = NY2.rename(index=str, columns={'What track are you in?': 'Track', 'How well is the schedule paced?': 'How would you rate the curriculum pace?'})"
   ]
  },
  {
   "cell_type": "code",
   "execution_count": 35,
   "metadata": {},
   "outputs": [],
   "source": [
    "NY2.insert(0, 'Location', 'New York City')\n",
    "NY2.insert(1, 'Week', 'Week 2')"
   ]
  },
  {
   "cell_type": "code",
   "execution_count": 36,
   "metadata": {},
   "outputs": [],
   "source": [
    "SF2 = pd.read_csv(\"Anon Week 2 Feedback - SF.csv\")"
   ]
  },
  {
   "cell_type": "code",
   "execution_count": 37,
   "metadata": {},
   "outputs": [],
   "source": [
    "SF2 = SF2.drop(columns=['Timestamp'])"
   ]
  },
  {
   "cell_type": "code",
   "execution_count": 38,
   "metadata": {},
   "outputs": [],
   "source": [
    "SF2 = SF2.rename(index=str, columns={'What track are you in?': 'Track', 'How well is the schedule paced?': 'How would you rate the curriculum pace?'})"
   ]
  },
  {
   "cell_type": "code",
   "execution_count": 39,
   "metadata": {},
   "outputs": [],
   "source": [
    "SF2.insert(0, 'Location', 'San Francisco')\n",
    "SF2.insert(1, 'Week', 'Week 2')"
   ]
  },
  {
   "cell_type": "code",
   "execution_count": 40,
   "metadata": {},
   "outputs": [],
   "source": [
    "SG2 = pd.read_csv(\"Anon Week 2 Feedback - SG.csv\")"
   ]
  },
  {
   "cell_type": "code",
   "execution_count": 41,
   "metadata": {},
   "outputs": [],
   "source": [
    "SG2 = SG2.drop(columns=['Timestamp'])"
   ]
  },
  {
   "cell_type": "code",
   "execution_count": 42,
   "metadata": {},
   "outputs": [],
   "source": [
    "SG2 = SG2.rename(index=str, columns={'How well is the schedule paced?': 'How would you rate the curriculum pace?'})"
   ]
  },
  {
   "cell_type": "code",
   "execution_count": 43,
   "metadata": {},
   "outputs": [],
   "source": [
    "SG2.insert(0, 'Location', 'Singapore')\n",
    "SG2.insert(1, 'Week', 'Week 2')"
   ]
  },
  {
   "cell_type": "code",
   "execution_count": 44,
   "metadata": {},
   "outputs": [],
   "source": [
    "SV2 = pd.read_csv(\"Anon Week 2 Feedback - SV.csv\")"
   ]
  },
  {
   "cell_type": "code",
   "execution_count": 45,
   "metadata": {},
   "outputs": [],
   "source": [
    "SV2 = SV2.drop(columns=['Timestamp'])"
   ]
  },
  {
   "cell_type": "code",
   "execution_count": 46,
   "metadata": {},
   "outputs": [],
   "source": [
    "SV2 = SV2.rename(index=str, columns={'What track are you in?': 'Track', 'How well is the schedule paced?': 'How would you rate the curriculum pace?'})"
   ]
  },
  {
   "cell_type": "code",
   "execution_count": 47,
   "metadata": {},
   "outputs": [],
   "source": [
    "SV2.insert(0, 'Location', 'Sunnyvale')\n",
    "SV2.insert(1, 'Week', 'Week 2')"
   ]
  },
  {
   "cell_type": "code",
   "execution_count": 48,
   "metadata": {},
   "outputs": [],
   "source": [
    "LA3 = pd.read_csv(\"Anon Week 3 Feedback - LA.csv\")"
   ]
  },
  {
   "cell_type": "code",
   "execution_count": 49,
   "metadata": {},
   "outputs": [],
   "source": [
    "LA3 = LA3.drop(columns='Timestamp')"
   ]
  },
  {
   "cell_type": "code",
   "execution_count": 50,
   "metadata": {},
   "outputs": [],
   "source": [
    "LA3 = LA3.rename(index=str, columns={'How well is the schedule paced?': 'How would you rate the curriculum pace?'})"
   ]
  },
  {
   "cell_type": "code",
   "execution_count": 51,
   "metadata": {},
   "outputs": [],
   "source": [
    "LA3.insert(0, 'Location', 'Los Angeles')\n",
    "LA3.insert(1, 'Week', 'Week 3')"
   ]
  },
  {
   "cell_type": "code",
   "execution_count": 52,
   "metadata": {},
   "outputs": [],
   "source": [
    "NY3 = pd.read_csv(\"Anon Week 3 Feedback - NY.csv\")"
   ]
  },
  {
   "cell_type": "code",
   "execution_count": 53,
   "metadata": {},
   "outputs": [],
   "source": [
    "NY3 = NY3.drop(columns=['Timestamp'])"
   ]
  },
  {
   "cell_type": "code",
   "execution_count": 54,
   "metadata": {},
   "outputs": [],
   "source": [
    "NY3 = NY3.rename(index=str, columns={'How well is the schedule paced?': 'How would you rate the curriculum pace?', 'What track are you in?': 'Track'})"
   ]
  },
  {
   "cell_type": "code",
   "execution_count": 55,
   "metadata": {},
   "outputs": [],
   "source": [
    "NY3.insert(0, 'Location', 'New York City')\n",
    "NY3.insert(1, 'Week', 'Week 3')"
   ]
  },
  {
   "cell_type": "code",
   "execution_count": 56,
   "metadata": {},
   "outputs": [],
   "source": [
    "SF3 = pd.read_csv(\"Anon Week 3 Feedback - SF.csv\")"
   ]
  },
  {
   "cell_type": "code",
   "execution_count": 57,
   "metadata": {},
   "outputs": [],
   "source": [
    "SF3 = SF3.drop(columns=['Timestamp'])"
   ]
  },
  {
   "cell_type": "code",
   "execution_count": 58,
   "metadata": {},
   "outputs": [],
   "source": [
    "SF3 = SF3.rename(index=str, columns={'What track are you in?': 'Track', 'How well is the schedule paced?': 'How would you rate the curriculum pace?'})"
   ]
  },
  {
   "cell_type": "code",
   "execution_count": 59,
   "metadata": {},
   "outputs": [],
   "source": [
    "SF3.insert(0, 'Location', 'San Francisco')\n",
    "SF3.insert(1, 'Week', 'Week 3')"
   ]
  },
  {
   "cell_type": "code",
   "execution_count": 60,
   "metadata": {},
   "outputs": [],
   "source": [
    "SG3 = pd.read_csv(\"Anon Week 3 Feedback - SG.csv\")"
   ]
  },
  {
   "cell_type": "code",
   "execution_count": 61,
   "metadata": {},
   "outputs": [],
   "source": [
    "SG3 = SG3.drop(columns=['Timestamp'])"
   ]
  },
  {
   "cell_type": "code",
   "execution_count": 62,
   "metadata": {},
   "outputs": [],
   "source": [
    "SG3 = SG3.rename(index=str, columns={'How well is the schedule paced?': 'How would you rate the curriculum pace?'})"
   ]
  },
  {
   "cell_type": "code",
   "execution_count": 63,
   "metadata": {},
   "outputs": [],
   "source": [
    "SG3.insert(0, 'Location', 'Singapore')\n",
    "SG3.insert(1, 'Week', 'Week 3')"
   ]
  },
  {
   "cell_type": "code",
   "execution_count": 64,
   "metadata": {},
   "outputs": [],
   "source": [
    "SV3 = pd.read_csv(\"Anon Week 3 Feedback - SV.csv\")"
   ]
  },
  {
   "cell_type": "code",
   "execution_count": 65,
   "metadata": {},
   "outputs": [],
   "source": [
    "SV3 = SV3.drop(index=[33], columns=['Timestamp'])"
   ]
  },
  {
   "cell_type": "code",
   "execution_count": 66,
   "metadata": {},
   "outputs": [],
   "source": [
    "SV3 = SV3.rename(index=str, columns={'What track are you in?': 'Track', 'How well is the schedule paced?': 'How would you rate the curriculum pace?'})"
   ]
  },
  {
   "cell_type": "code",
   "execution_count": 67,
   "metadata": {},
   "outputs": [],
   "source": [
    "SV3.insert(0, 'Location', 'Sunnyvale')\n",
    "SV3.insert(1, 'Week', 'Week 3')"
   ]
  },
  {
   "cell_type": "code",
   "execution_count": 68,
   "metadata": {},
   "outputs": [],
   "source": [
    "SV3['How would you rate the curriculum pace?'] = SV3['How would you rate the curriculum pace?'].apply(lambda x: np.int64(x))"
   ]
  },
  {
   "cell_type": "code",
   "execution_count": 69,
   "metadata": {},
   "outputs": [],
   "source": [
    "SV3['How would you rate your overall satisfaction with the Summer Academy this week?'] = SV3['How would you rate your overall satisfaction with the Summer Academy this week?'].apply(lambda x: np.int64(x))"
   ]
  },
  {
   "cell_type": "code",
   "execution_count": 70,
   "metadata": {},
   "outputs": [],
   "source": [
    "LA4 = pd.read_csv(\"Anon Week 4 Feedback - LA.csv\")"
   ]
  },
  {
   "cell_type": "code",
   "execution_count": 71,
   "metadata": {},
   "outputs": [],
   "source": [
    "LA4 = LA4.drop(columns=['Timestamp'])"
   ]
  },
  {
   "cell_type": "code",
   "execution_count": 72,
   "metadata": {},
   "outputs": [],
   "source": [
    "LA4 = LA4.rename(index=str, columns={'How well is the schedule paced?': 'How would you rate the curriculum pace?'})"
   ]
  },
  {
   "cell_type": "code",
   "execution_count": 73,
   "metadata": {},
   "outputs": [],
   "source": [
    "LA4.insert(0, 'Location', 'Los Angeles')\n",
    "LA4.insert(1, 'Week', 'Week 4')"
   ]
  },
  {
   "cell_type": "code",
   "execution_count": 74,
   "metadata": {},
   "outputs": [],
   "source": [
    "NY4 = pd.read_csv(\"Anon Week 4 Feedback - NY.csv\")"
   ]
  },
  {
   "cell_type": "code",
   "execution_count": 75,
   "metadata": {},
   "outputs": [],
   "source": [
    "NY4 = NY4.drop(columns=['Timestamp'])"
   ]
  },
  {
   "cell_type": "code",
   "execution_count": 76,
   "metadata": {},
   "outputs": [],
   "source": [
    "NY4 = NY4.rename(index=str, columns={'What track are you in?': 'Track', 'How well is the schedule paced?': 'How would you rate the curriculum pace?'})"
   ]
  },
  {
   "cell_type": "code",
   "execution_count": 77,
   "metadata": {},
   "outputs": [],
   "source": [
    "NY4.insert(0, 'Location', 'New York City')\n",
    "NY4.insert(1, 'Week', 'Week 4')"
   ]
  },
  {
   "cell_type": "code",
   "execution_count": 78,
   "metadata": {},
   "outputs": [],
   "source": [
    "SF4 = pd.read_csv(\"Anon Week 4 Feedback - SF.csv\")"
   ]
  },
  {
   "cell_type": "code",
   "execution_count": 79,
   "metadata": {},
   "outputs": [],
   "source": [
    "SF4 = SF4.drop(columns=['Timestamp'])"
   ]
  },
  {
   "cell_type": "code",
   "execution_count": 80,
   "metadata": {},
   "outputs": [],
   "source": [
    "SF4 = SF4.rename(index=str, columns={'What track are you in?': 'Track', 'How well is the schedule paced?': 'How would you rate the curriculum pace?'})"
   ]
  },
  {
   "cell_type": "code",
   "execution_count": 81,
   "metadata": {},
   "outputs": [],
   "source": [
    "SF4.insert(0, 'Location', 'San Francisco')\n",
    "SF4.insert(1, 'Week', 'Week 4')"
   ]
  },
  {
   "cell_type": "code",
   "execution_count": 82,
   "metadata": {},
   "outputs": [],
   "source": [
    "SG4 = pd.read_csv(\"Anon Week 4 Feedback - SG.csv\")"
   ]
  },
  {
   "cell_type": "code",
   "execution_count": 83,
   "metadata": {},
   "outputs": [],
   "source": [
    "SG4 = SG4.drop(columns=['Timestamp'])"
   ]
  },
  {
   "cell_type": "code",
   "execution_count": 84,
   "metadata": {},
   "outputs": [],
   "source": [
    "SG4 = SG4.rename(index=str, columns={'How well is the schedule paced?': 'How would you rate the curriculum pace?'})"
   ]
  },
  {
   "cell_type": "code",
   "execution_count": 85,
   "metadata": {},
   "outputs": [],
   "source": [
    "SG4.insert(0, 'Location', 'Singapore')\n",
    "SG4.insert(1, 'Week', 'Week 4')"
   ]
  },
  {
   "cell_type": "code",
   "execution_count": 86,
   "metadata": {},
   "outputs": [],
   "source": [
    "SV4 = pd.read_csv(\"Anon Week 4 Feedback - SV.csv\")"
   ]
  },
  {
   "cell_type": "code",
   "execution_count": 87,
   "metadata": {},
   "outputs": [],
   "source": [
    "SV4 = SV4.drop(columns=['Timestamp'])"
   ]
  },
  {
   "cell_type": "code",
   "execution_count": 88,
   "metadata": {},
   "outputs": [],
   "source": [
    "SV4 = SV4.rename(index=str, columns={'What track are you in?': 'Track', 'How well is the schedule paced?': 'How would you rate the curriculum pace?'})"
   ]
  },
  {
   "cell_type": "code",
   "execution_count": 89,
   "metadata": {},
   "outputs": [],
   "source": [
    "SV4.insert(0, 'Location', 'Sunnyvale')\n",
    "SV4.insert(1, 'Week', 'Week 4')"
   ]
  },
  {
   "cell_type": "code",
   "execution_count": 90,
   "metadata": {},
   "outputs": [],
   "source": [
    "HK1 = pd.read_csv(\"Anon Week 5 Feedback - HK.csv\")"
   ]
  },
  {
   "cell_type": "code",
   "execution_count": 91,
   "metadata": {},
   "outputs": [],
   "source": [
    "HK1 = HK1.drop(columns=['Timestamp'])"
   ]
  },
  {
   "cell_type": "code",
   "execution_count": 92,
   "metadata": {},
   "outputs": [],
   "source": [
    "HK1 = HK1.rename(index=str, columns={'How well are the tutorials paced?': 'How would you rate the curriculum pace?'})"
   ]
  },
  {
   "cell_type": "code",
   "execution_count": 93,
   "metadata": {},
   "outputs": [],
   "source": [
    "HK1.insert(0, 'Location', 'Hong Kong')\n",
    "HK1.insert(1, 'Week', 'Week 5')"
   ]
  },
  {
   "cell_type": "code",
   "execution_count": 94,
   "metadata": {},
   "outputs": [],
   "source": [
    "LA5 = pd.read_csv(\"Anon Week 5 Feedback - LA.csv\")"
   ]
  },
  {
   "cell_type": "code",
   "execution_count": 95,
   "metadata": {},
   "outputs": [],
   "source": [
    "LA5 = LA5.drop(columns=['Timestamp'])"
   ]
  },
  {
   "cell_type": "code",
   "execution_count": 96,
   "metadata": {},
   "outputs": [],
   "source": [
    "LA5 = LA5.rename(index=str, columns={'What track are you in?': 'Track', 'How well is the schedule paced?': 'How would you rate the curriculum pace?'})"
   ]
  },
  {
   "cell_type": "code",
   "execution_count": 97,
   "metadata": {},
   "outputs": [],
   "source": [
    "LA5.insert(0, 'Location', 'Los Angeles')\n",
    "LA5.insert(1, 'Week', 'Week 5')"
   ]
  },
  {
   "cell_type": "code",
   "execution_count": 98,
   "metadata": {},
   "outputs": [],
   "source": [
    "NY5 = pd.read_csv(\"Anon Week 5 Feedback - NY.csv\")"
   ]
  },
  {
   "cell_type": "code",
   "execution_count": 99,
   "metadata": {},
   "outputs": [],
   "source": [
    "NY5 = NY5.drop(columns=['Timestamp'])"
   ]
  },
  {
   "cell_type": "code",
   "execution_count": 100,
   "metadata": {},
   "outputs": [],
   "source": [
    "NY5 = NY5.rename(index=str, columns={'What track are you in?': 'Track', 'How well is the schedule paced?': 'How would you rate the curriculum pace?'})"
   ]
  },
  {
   "cell_type": "code",
   "execution_count": 101,
   "metadata": {},
   "outputs": [],
   "source": [
    "NY5.insert(0, 'Location', 'New York City')\n",
    "NY5.insert(1, 'Week', 'Week 5')"
   ]
  },
  {
   "cell_type": "code",
   "execution_count": 102,
   "metadata": {},
   "outputs": [],
   "source": [
    "SF5 = pd.read_csv(\"Anon Week 5 Feedback - SF.csv\")"
   ]
  },
  {
   "cell_type": "code",
   "execution_count": 103,
   "metadata": {},
   "outputs": [],
   "source": [
    "SF5 = SF5.rename(index=str, columns={'What track are you in?': 'Track', 'How well is the schedule paced?': 'How would you rate the curriculum pace?'})"
   ]
  },
  {
   "cell_type": "code",
   "execution_count": 104,
   "metadata": {},
   "outputs": [],
   "source": [
    "SF5.insert(0, 'Location', 'San Francisco')\n",
    "SF5.insert(1, 'Week', 'Week 5')"
   ]
  },
  {
   "cell_type": "code",
   "execution_count": 105,
   "metadata": {},
   "outputs": [],
   "source": [
    "SG5 = pd.read_csv(\"Anon Week 5 Feedback - SG.csv\")"
   ]
  },
  {
   "cell_type": "code",
   "execution_count": 106,
   "metadata": {},
   "outputs": [],
   "source": [
    "SG5 = SG5.drop(columns=['Timestamp'])"
   ]
  },
  {
   "cell_type": "code",
   "execution_count": 107,
   "metadata": {},
   "outputs": [],
   "source": [
    "SG5 = SG5.rename(index=str, columns={'How well is the schedule paced?': 'How would you rate the curriculum pace?'})"
   ]
  },
  {
   "cell_type": "code",
   "execution_count": 108,
   "metadata": {
    "scrolled": true
   },
   "outputs": [],
   "source": [
    "SG5.insert(0, 'Location', 'Singapore')\n",
    "SG5.insert(1, 'Week', 'Week 5')"
   ]
  },
  {
   "cell_type": "code",
   "execution_count": 109,
   "metadata": {},
   "outputs": [],
   "source": [
    "SV5 = pd.read_csv(\"Anon Week 5 Feedback - SV.csv\")"
   ]
  },
  {
   "cell_type": "code",
   "execution_count": 110,
   "metadata": {},
   "outputs": [],
   "source": [
    "SV5 = SV5.drop(columns=['Timestamp'])"
   ]
  },
  {
   "cell_type": "code",
   "execution_count": 111,
   "metadata": {},
   "outputs": [],
   "source": [
    "SV5 = SV5.rename(index=str, columns={'What track are you in?': 'Track', 'How well is the schedule paced?': 'How would you rate the curriculum pace?'})"
   ]
  },
  {
   "cell_type": "code",
   "execution_count": 112,
   "metadata": {},
   "outputs": [],
   "source": [
    "SV5.insert(0, 'Location', 'Sunnyvale')\n",
    "SV5.insert(1, 'Week', 'Week 5')"
   ]
  },
  {
   "cell_type": "code",
   "execution_count": 113,
   "metadata": {},
   "outputs": [],
   "source": [
    "HK2 = pd.read_csv(\"Anon Week 6 Feedback - HK.csv\")"
   ]
  },
  {
   "cell_type": "code",
   "execution_count": 114,
   "metadata": {},
   "outputs": [],
   "source": [
    "HK2 = HK2.drop(columns=['Timestamp'])"
   ]
  },
  {
   "cell_type": "code",
   "execution_count": 115,
   "metadata": {},
   "outputs": [],
   "source": [
    "HK2 = HK2.rename(index=str, columns={'How well is the schedule paced?': 'How would you rate the curriculum pace?'})"
   ]
  },
  {
   "cell_type": "code",
   "execution_count": 116,
   "metadata": {},
   "outputs": [],
   "source": [
    "HK2.insert(0, 'Location', 'Hong Kong')\n",
    "HK2.insert(1, 'Week', 'Week 6')"
   ]
  },
  {
   "cell_type": "code",
   "execution_count": 117,
   "metadata": {},
   "outputs": [],
   "source": [
    "LA6 = pd.read_csv(\"Anon Week 6 Feedback - LA.csv\")"
   ]
  },
  {
   "cell_type": "code",
   "execution_count": 118,
   "metadata": {},
   "outputs": [],
   "source": [
    "LA6 = LA6.drop(columns=['Timestamp'])"
   ]
  },
  {
   "cell_type": "code",
   "execution_count": 119,
   "metadata": {},
   "outputs": [],
   "source": [
    "LA6 = LA6.rename(index=str, columns={'What track are you in?': 'Track', 'How well is the schedule paced?': 'How would you rate the curriculum pace?'})"
   ]
  },
  {
   "cell_type": "code",
   "execution_count": 120,
   "metadata": {},
   "outputs": [],
   "source": [
    "LA6.insert(0, 'Location', 'Los Angeles')\n",
    "LA6.insert(1, 'Week', 'Week 6')"
   ]
  },
  {
   "cell_type": "code",
   "execution_count": 121,
   "metadata": {},
   "outputs": [],
   "source": [
    "NY6 = pd.read_csv(\"Anon Week 6 Feedback - NY.csv\")"
   ]
  },
  {
   "cell_type": "code",
   "execution_count": 122,
   "metadata": {},
   "outputs": [],
   "source": [
    "NY6 = NY6.drop(columns=['Timestamp'])"
   ]
  },
  {
   "cell_type": "code",
   "execution_count": 123,
   "metadata": {},
   "outputs": [],
   "source": [
    "NY6 = NY6.rename(index=str, columns={'What track are you in?': 'Track', 'How well is the schedule paced?': 'How would you rate the curriculum pace?'})"
   ]
  },
  {
   "cell_type": "code",
   "execution_count": 124,
   "metadata": {},
   "outputs": [],
   "source": [
    "NY6.insert(0, 'Location', 'New York City')\n",
    "NY6.insert(1, 'Week', 'Week 6')"
   ]
  },
  {
   "cell_type": "code",
   "execution_count": 125,
   "metadata": {},
   "outputs": [],
   "source": [
    "SF6 = pd.read_csv(\"Anon Week 6 Feedback - SF.csv\")"
   ]
  },
  {
   "cell_type": "code",
   "execution_count": 126,
   "metadata": {},
   "outputs": [],
   "source": [
    "SF6 = SF6.drop(columns=['Timestamp'])"
   ]
  },
  {
   "cell_type": "code",
   "execution_count": 127,
   "metadata": {},
   "outputs": [],
   "source": [
    "SF6 = SF6.rename(index=str, columns={'What track are you in?': 'Track', 'How well is the schedule paced?': 'How would you rate the curriculum pace?'})"
   ]
  },
  {
   "cell_type": "code",
   "execution_count": 128,
   "metadata": {},
   "outputs": [],
   "source": [
    "SF6.insert(0, 'Location', 'San Francisco')\n",
    "SF6.insert(1, 'Week', 'Week 6')"
   ]
  },
  {
   "cell_type": "code",
   "execution_count": 129,
   "metadata": {},
   "outputs": [],
   "source": [
    "SG6 = pd.read_csv(\"Anon Week 6 Feedback - SG.csv\")"
   ]
  },
  {
   "cell_type": "code",
   "execution_count": 130,
   "metadata": {},
   "outputs": [],
   "source": [
    "SG6 = SG6.drop(columns=['Timestamp'])"
   ]
  },
  {
   "cell_type": "code",
   "execution_count": 131,
   "metadata": {},
   "outputs": [],
   "source": [
    "SG6 = SG6.rename(index=str, columns={'How well is the schedule paced?': 'How would you rate the curriculum pace?'})"
   ]
  },
  {
   "cell_type": "code",
   "execution_count": 132,
   "metadata": {},
   "outputs": [],
   "source": [
    "SG6.insert(0, 'Location', 'Singapore')\n",
    "SG6.insert(1, 'Week', 'Week 6')"
   ]
  },
  {
   "cell_type": "code",
   "execution_count": 133,
   "metadata": {},
   "outputs": [],
   "source": [
    "SV6 = pd.read_csv(\"Anon Week 6 Feedback - SV.csv\")"
   ]
  },
  {
   "cell_type": "code",
   "execution_count": 134,
   "metadata": {},
   "outputs": [],
   "source": [
    "SV6 = SV6.drop(columns=['Timestamp'])"
   ]
  },
  {
   "cell_type": "code",
   "execution_count": 135,
   "metadata": {},
   "outputs": [],
   "source": [
    "SV6 = SV6.rename(index=str, columns={'What track are you in?': 'Track', 'How well is the schedule paced?': 'How would you rate the curriculum pace?'})"
   ]
  },
  {
   "cell_type": "code",
   "execution_count": 136,
   "metadata": {},
   "outputs": [],
   "source": [
    "SV6.insert(0, 'Location', 'Sunnyvale')\n",
    "SV6.insert(1, 'Week', 'Week 6')"
   ]
  },
  {
   "cell_type": "code",
   "execution_count": 137,
   "metadata": {},
   "outputs": [],
   "source": [
    "Taipei1 = pd.read_csv(\"Anon Week 6 Feedback - Taipei.csv\")"
   ]
  },
  {
   "cell_type": "code",
   "execution_count": 138,
   "metadata": {},
   "outputs": [],
   "source": [
    "Taipei1 = Taipei1.drop(columns=['Timestamp'])"
   ]
  },
  {
   "cell_type": "code",
   "execution_count": 139,
   "metadata": {},
   "outputs": [],
   "source": [
    "Taipei1 = Taipei1.rename(index=str, columns={'How well is the schedule paced?': 'How would you rate the curriculum pace?'})"
   ]
  },
  {
   "cell_type": "code",
   "execution_count": 140,
   "metadata": {},
   "outputs": [],
   "source": [
    "Taipei1.insert(0, 'Location', 'Taipei')\n",
    "Taipei1.insert(1, 'Week', 'Week 6')"
   ]
  },
  {
   "cell_type": "code",
   "execution_count": 141,
   "metadata": {},
   "outputs": [],
   "source": [
    "Tokyo1 = pd.read_csv(\"Anon Week 6 Feedback - Tokyo.csv\")"
   ]
  },
  {
   "cell_type": "code",
   "execution_count": 142,
   "metadata": {},
   "outputs": [],
   "source": [
    "Tokyo1 = Tokyo1.drop(columns=['Timestamp'])"
   ]
  },
  {
   "cell_type": "code",
   "execution_count": 143,
   "metadata": {},
   "outputs": [],
   "source": [
    "Tokyo1 = Tokyo1.rename(index=str, columns={'How well is the schedule paced?': 'How would you rate the curriculum pace?'})"
   ]
  },
  {
   "cell_type": "code",
   "execution_count": 144,
   "metadata": {},
   "outputs": [],
   "source": [
    "Tokyo1.insert(0, 'Location', 'Tokyo')\n",
    "Tokyo1.insert(1, 'Week', 'Week 6')"
   ]
  },
  {
   "cell_type": "code",
   "execution_count": 145,
   "metadata": {},
   "outputs": [],
   "source": [
    "LA7 = pd.read_csv(\"Anon Week 7 Feedback - LA.csv\")"
   ]
  },
  {
   "cell_type": "code",
   "execution_count": 146,
   "metadata": {},
   "outputs": [],
   "source": [
    "LA7 = LA7.drop(columns=['Timestamp'])"
   ]
  },
  {
   "cell_type": "code",
   "execution_count": 147,
   "metadata": {},
   "outputs": [],
   "source": [
    "LA7 = LA7.rename(index=str, columns={'What track are you in?': 'Track', 'How well is the schedule paced?': 'How would you rate the curriculum pace?'})"
   ]
  },
  {
   "cell_type": "code",
   "execution_count": 148,
   "metadata": {},
   "outputs": [],
   "source": [
    "LA7.insert(0, 'Location', 'Los Angeles')\n",
    "LA7.insert(1, 'Week', 'Week 7')"
   ]
  },
  {
   "cell_type": "code",
   "execution_count": 149,
   "metadata": {},
   "outputs": [],
   "source": [
    "NY7 = pd.read_csv(\"Anon Week 7 Feedback - NY.csv\")"
   ]
  },
  {
   "cell_type": "code",
   "execution_count": 150,
   "metadata": {},
   "outputs": [],
   "source": [
    "NY7 = NY7.drop(columns=['Timestamp'])"
   ]
  },
  {
   "cell_type": "code",
   "execution_count": 151,
   "metadata": {},
   "outputs": [],
   "source": [
    "NY7 = NY7.rename(index=str, columns={'What track are you in?': 'Track', 'How well is the schedule paced?': 'How would you rate the curriculum pace?'})"
   ]
  },
  {
   "cell_type": "code",
   "execution_count": 152,
   "metadata": {},
   "outputs": [],
   "source": [
    "NY7.insert(0, 'Location', 'New York City')\n",
    "NY7.insert(1, 'Week', 'Week 7')"
   ]
  },
  {
   "cell_type": "code",
   "execution_count": 153,
   "metadata": {},
   "outputs": [],
   "source": [
    "SF7 = pd.read_csv(\"Anon Week 7 Feedback - SF.csv\")"
   ]
  },
  {
   "cell_type": "code",
   "execution_count": 154,
   "metadata": {},
   "outputs": [],
   "source": [
    "SF7 = SF7.drop(columns=['Timestamp'])"
   ]
  },
  {
   "cell_type": "code",
   "execution_count": 155,
   "metadata": {},
   "outputs": [],
   "source": [
    "SF7 = SF7.rename(index=str, columns={'What track are you in?': 'Track', 'How well is the schedule paced?': 'How would you rate the curriculum pace?'})"
   ]
  },
  {
   "cell_type": "code",
   "execution_count": 156,
   "metadata": {},
   "outputs": [],
   "source": [
    "SF7.insert(0, 'Location', 'San Francisco')\n",
    "SF7.insert(1, 'Week', 'Week 7')"
   ]
  },
  {
   "cell_type": "code",
   "execution_count": 157,
   "metadata": {},
   "outputs": [],
   "source": [
    "SV7 = pd.read_csv(\"Anon Week 7 Feedback - SV.csv\")"
   ]
  },
  {
   "cell_type": "code",
   "execution_count": 158,
   "metadata": {},
   "outputs": [],
   "source": [
    "SV7 = SV7.drop(columns='Timestamp')"
   ]
  },
  {
   "cell_type": "code",
   "execution_count": 159,
   "metadata": {},
   "outputs": [],
   "source": [
    "SV7 = SV7.rename(index=str, columns={'What track are you in?': 'Track', 'How well is the schedule paced?': 'How would you rate the curriculum pace?'})"
   ]
  },
  {
   "cell_type": "code",
   "execution_count": 160,
   "metadata": {},
   "outputs": [],
   "source": [
    "SV7.insert(0, 'Location', 'Sunnyvale')\n",
    "SV7.insert(1, 'Week', 'Week 7')"
   ]
  },
  {
   "cell_type": "code",
   "execution_count": 161,
   "metadata": {},
   "outputs": [],
   "source": [
    "Taipei2 = pd.read_csv(\"Anon Week 7 Feedback - Taipei.csv\")"
   ]
  },
  {
   "cell_type": "code",
   "execution_count": 162,
   "metadata": {},
   "outputs": [],
   "source": [
    "Taipei2 = Taipei2.drop(columns=['Timestamp'])"
   ]
  },
  {
   "cell_type": "code",
   "execution_count": 163,
   "metadata": {},
   "outputs": [],
   "source": [
    "Taipei2 = Taipei2.rename(index=str, columns={'How well is the schedule paced?': 'How would you rate the curriculum pace?'})"
   ]
  },
  {
   "cell_type": "code",
   "execution_count": 164,
   "metadata": {},
   "outputs": [],
   "source": [
    "Taipei2.insert(0, 'Location', 'Taipei')\n",
    "Taipei2.insert(1, 'Week', 'Week 7')"
   ]
  },
  {
   "cell_type": "markdown",
   "metadata": {},
   "source": [
    "### Finally putting it all together"
   ]
  },
  {
   "cell_type": "code",
   "execution_count": 165,
   "metadata": {},
   "outputs": [],
   "source": [
    "step1 = [LA1, NY1, SF1, SG1, SV1, LA2, NY2, SF2, SG2, SV2, LA3, NY3, SF3, SG3, SV3, LA4, NY4, SF4, SG4, SV4, HK1, LA5, NY5, SF5, SG5, SV5, HK2, LA6, NY6, SF6, SG6, SV6, Taipei1, Tokyo1, LA7, NY7, SF7, SV7, Taipei2]\n",
    "results1 = pd.concat(step1, ignore_index=True, sort=False)"
   ]
  },
  {
   "cell_type": "code",
   "execution_count": 166,
   "metadata": {},
   "outputs": [],
   "source": [
    "results1 = results1.rename(index=str, columns={'How would you rate your overall satisfaction with the Summer Academy this week?': 'Overall Satisfaction Rating', 'How would you rate the curriculum pace?': 'Schedule Pace Rating'})"
   ]
  },
  {
   "cell_type": "code",
   "execution_count": 167,
   "metadata": {},
   "outputs": [],
   "source": [
    "results1['Net Promoter Score'] = results1['Overall Satisfaction Rating'].apply(lambda num: 'Promoter' if num==5 else ('Passive' if num==4 else 'Detractor'))\n",
    "# another way:\n",
    "# # results1['Net Promoter Score'] = ['Promoter' if num==5 else ('Passive' if num==4 else 'Detractor') for num in results1['Overall Satisfaction Rating']]"
   ]
  },
  {
   "cell_type": "code",
   "execution_count": 168,
   "metadata": {},
   "outputs": [],
   "source": [
    "# Double ratings in order to get scores out of 10\n",
    "results1['Overall Satisfaction Rating'] = results1[['Overall Satisfaction Rating']].apply(lambda x: x*2)\n",
    "results1['Schedule Pace Rating'] = results1[['Schedule Pace Rating']].apply(lambda x: x*2)"
   ]
  },
  {
   "cell_type": "code",
   "execution_count": 169,
   "metadata": {},
   "outputs": [
    {
     "data": {
      "text/html": [
       "<div>\n",
       "<style scoped>\n",
       "    .dataframe tbody tr th:only-of-type {\n",
       "        vertical-align: middle;\n",
       "    }\n",
       "\n",
       "    .dataframe tbody tr th {\n",
       "        vertical-align: top;\n",
       "    }\n",
       "\n",
       "    .dataframe thead th {\n",
       "        text-align: right;\n",
       "    }\n",
       "</style>\n",
       "<table border=\"1\" class=\"dataframe\">\n",
       "  <thead>\n",
       "    <tr style=\"text-align: right;\">\n",
       "      <th></th>\n",
       "      <th>Location</th>\n",
       "      <th>Week</th>\n",
       "      <th>Overall Satisfaction Rating</th>\n",
       "      <th>Schedule Pace Rating</th>\n",
       "      <th>Track</th>\n",
       "      <th>Net Promoter Score</th>\n",
       "    </tr>\n",
       "  </thead>\n",
       "  <tbody>\n",
       "    <tr>\n",
       "      <th>0</th>\n",
       "      <td>Los Angeles</td>\n",
       "      <td>Week 1</td>\n",
       "      <td>6</td>\n",
       "      <td>8</td>\n",
       "      <td>NaN</td>\n",
       "      <td>Detractor</td>\n",
       "    </tr>\n",
       "    <tr>\n",
       "      <th>1</th>\n",
       "      <td>Los Angeles</td>\n",
       "      <td>Week 1</td>\n",
       "      <td>8</td>\n",
       "      <td>8</td>\n",
       "      <td>NaN</td>\n",
       "      <td>Passive</td>\n",
       "    </tr>\n",
       "    <tr>\n",
       "      <th>2</th>\n",
       "      <td>Los Angeles</td>\n",
       "      <td>Week 1</td>\n",
       "      <td>8</td>\n",
       "      <td>8</td>\n",
       "      <td>NaN</td>\n",
       "      <td>Passive</td>\n",
       "    </tr>\n",
       "    <tr>\n",
       "      <th>3</th>\n",
       "      <td>Los Angeles</td>\n",
       "      <td>Week 1</td>\n",
       "      <td>8</td>\n",
       "      <td>8</td>\n",
       "      <td>NaN</td>\n",
       "      <td>Passive</td>\n",
       "    </tr>\n",
       "    <tr>\n",
       "      <th>4</th>\n",
       "      <td>Los Angeles</td>\n",
       "      <td>Week 1</td>\n",
       "      <td>8</td>\n",
       "      <td>10</td>\n",
       "      <td>NaN</td>\n",
       "      <td>Passive</td>\n",
       "    </tr>\n",
       "  </tbody>\n",
       "</table>\n",
       "</div>"
      ],
      "text/plain": [
       "      Location    Week  Overall Satisfaction Rating  Schedule Pace Rating  \\\n",
       "0  Los Angeles  Week 1                            6                     8   \n",
       "1  Los Angeles  Week 1                            8                     8   \n",
       "2  Los Angeles  Week 1                            8                     8   \n",
       "3  Los Angeles  Week 1                            8                     8   \n",
       "4  Los Angeles  Week 1                            8                    10   \n",
       "\n",
       "  Track Net Promoter Score  \n",
       "0   NaN          Detractor  \n",
       "1   NaN            Passive  \n",
       "2   NaN            Passive  \n",
       "3   NaN            Passive  \n",
       "4   NaN            Passive  "
      ]
     },
     "execution_count": 169,
     "metadata": {},
     "output_type": "execute_result"
    }
   ],
   "source": [
    "results1.head()"
   ]
  },
  {
   "cell_type": "markdown",
   "metadata": {},
   "source": [
    "# Step 2: Clean the 2016 data from week 8."
   ]
  },
  {
   "cell_type": "code",
   "execution_count": 170,
   "metadata": {},
   "outputs": [],
   "source": [
    "week8 = pd.read_csv('Week 8 Feedback (2016, incomplete) - results.csv')"
   ]
  },
  {
   "cell_type": "code",
   "execution_count": 171,
   "metadata": {},
   "outputs": [],
   "source": [
    "week8 = week8.drop(columns=['#', 'Start Date (UTC)', 'Submit Date (UTC)', 'Network ID'])"
   ]
  },
  {
   "cell_type": "code",
   "execution_count": 172,
   "metadata": {},
   "outputs": [],
   "source": [
    "week8 = week8.rename(index=str, columns={'location': 'Location', 'track': 'Track', 'How likely is it that you would recommend the Make School Summer Academy to a friend?': 'Overall Satisfaction Rating'})"
   ]
  },
  {
   "cell_type": "code",
   "execution_count": 173,
   "metadata": {},
   "outputs": [],
   "source": [
    "week8.insert(0, 'Week', 'Week 8')"
   ]
  },
  {
   "cell_type": "code",
   "execution_count": 174,
   "metadata": {},
   "outputs": [],
   "source": [
    "week8['Net Promoter Score'] = week8['Overall Satisfaction Rating'].apply(lambda num: 'Promoter' if num==9 or num==10 else ('Passive' if num==8 or num==7 else 'Detractor'))"
   ]
  },
  {
   "cell_type": "code",
   "execution_count": 175,
   "metadata": {},
   "outputs": [],
   "source": [
    "week8['Track'] = week8['Track'].str.slice(start=6) #Remove \"summer\" from the track names\n",
    "\n",
    "# another way:\n",
    "## week8.loc[week8['Track'] == 'summerApps', 'Track'] = 'Apps'"
   ]
  },
  {
   "cell_type": "code",
   "execution_count": 176,
   "metadata": {},
   "outputs": [
    {
     "data": {
      "text/html": [
       "<div>\n",
       "<style scoped>\n",
       "    .dataframe tbody tr th:only-of-type {\n",
       "        vertical-align: middle;\n",
       "    }\n",
       "\n",
       "    .dataframe tbody tr th {\n",
       "        vertical-align: top;\n",
       "    }\n",
       "\n",
       "    .dataframe thead th {\n",
       "        text-align: right;\n",
       "    }\n",
       "</style>\n",
       "<table border=\"1\" class=\"dataframe\">\n",
       "  <thead>\n",
       "    <tr style=\"text-align: right;\">\n",
       "      <th></th>\n",
       "      <th>Week</th>\n",
       "      <th>Overall Satisfaction Rating</th>\n",
       "      <th>Location</th>\n",
       "      <th>Track</th>\n",
       "      <th>Net Promoter Score</th>\n",
       "    </tr>\n",
       "  </thead>\n",
       "  <tbody>\n",
       "    <tr>\n",
       "      <th>0</th>\n",
       "      <td>Week 8</td>\n",
       "      <td>10</td>\n",
       "      <td>New York</td>\n",
       "      <td>Apps</td>\n",
       "      <td>Promoter</td>\n",
       "    </tr>\n",
       "    <tr>\n",
       "      <th>1</th>\n",
       "      <td>Week 8</td>\n",
       "      <td>10</td>\n",
       "      <td>San Francisco</td>\n",
       "      <td>Intro</td>\n",
       "      <td>Promoter</td>\n",
       "    </tr>\n",
       "    <tr>\n",
       "      <th>2</th>\n",
       "      <td>Week 8</td>\n",
       "      <td>10</td>\n",
       "      <td>New York</td>\n",
       "      <td>Intro</td>\n",
       "      <td>Promoter</td>\n",
       "    </tr>\n",
       "    <tr>\n",
       "      <th>3</th>\n",
       "      <td>Week 8</td>\n",
       "      <td>9</td>\n",
       "      <td>Sunnyvale</td>\n",
       "      <td>Apps (4-week)</td>\n",
       "      <td>Promoter</td>\n",
       "    </tr>\n",
       "    <tr>\n",
       "      <th>4</th>\n",
       "      <td>Week 8</td>\n",
       "      <td>3</td>\n",
       "      <td>San Francisco</td>\n",
       "      <td>Intro</td>\n",
       "      <td>Detractor</td>\n",
       "    </tr>\n",
       "  </tbody>\n",
       "</table>\n",
       "</div>"
      ],
      "text/plain": [
       "     Week  Overall Satisfaction Rating       Location          Track  \\\n",
       "0  Week 8                           10       New York           Apps   \n",
       "1  Week 8                           10  San Francisco          Intro   \n",
       "2  Week 8                           10       New York          Intro   \n",
       "3  Week 8                            9      Sunnyvale  Apps (4-week)   \n",
       "4  Week 8                            3  San Francisco          Intro   \n",
       "\n",
       "  Net Promoter Score  \n",
       "0           Promoter  \n",
       "1           Promoter  \n",
       "2           Promoter  \n",
       "3           Promoter  \n",
       "4          Detractor  "
      ]
     },
     "execution_count": 176,
     "metadata": {},
     "output_type": "execute_result"
    }
   ],
   "source": [
    "week8.head()"
   ]
  },
  {
   "cell_type": "markdown",
   "metadata": {},
   "source": [
    "# Step 3: Merge the dataframes from weeks 1-7 and from week 8 of 2016 into a full 2016 dataframe."
   ]
  },
  {
   "cell_type": "code",
   "execution_count": 177,
   "metadata": {},
   "outputs": [],
   "source": [
    "step3 = [results1, week8]\n",
    "all2k16 = pd.concat(step3, ignore_index=True, sort=False)"
   ]
  },
  {
   "cell_type": "code",
   "execution_count": 178,
   "metadata": {},
   "outputs": [],
   "source": [
    "all2k16.insert(0, 'Year', '2016')"
   ]
  },
  {
   "cell_type": "code",
   "execution_count": 179,
   "metadata": {
    "scrolled": true
   },
   "outputs": [
    {
     "data": {
      "text/html": [
       "<div>\n",
       "<style scoped>\n",
       "    .dataframe tbody tr th:only-of-type {\n",
       "        vertical-align: middle;\n",
       "    }\n",
       "\n",
       "    .dataframe tbody tr th {\n",
       "        vertical-align: top;\n",
       "    }\n",
       "\n",
       "    .dataframe thead th {\n",
       "        text-align: right;\n",
       "    }\n",
       "</style>\n",
       "<table border=\"1\" class=\"dataframe\">\n",
       "  <thead>\n",
       "    <tr style=\"text-align: right;\">\n",
       "      <th></th>\n",
       "      <th>Year</th>\n",
       "      <th>Location</th>\n",
       "      <th>Week</th>\n",
       "      <th>Overall Satisfaction Rating</th>\n",
       "      <th>Schedule Pace Rating</th>\n",
       "      <th>Track</th>\n",
       "      <th>Net Promoter Score</th>\n",
       "    </tr>\n",
       "  </thead>\n",
       "  <tbody>\n",
       "    <tr>\n",
       "      <th>0</th>\n",
       "      <td>2016</td>\n",
       "      <td>Los Angeles</td>\n",
       "      <td>Week 1</td>\n",
       "      <td>6</td>\n",
       "      <td>8.0</td>\n",
       "      <td>NaN</td>\n",
       "      <td>Detractor</td>\n",
       "    </tr>\n",
       "    <tr>\n",
       "      <th>1</th>\n",
       "      <td>2016</td>\n",
       "      <td>Los Angeles</td>\n",
       "      <td>Week 1</td>\n",
       "      <td>8</td>\n",
       "      <td>8.0</td>\n",
       "      <td>NaN</td>\n",
       "      <td>Passive</td>\n",
       "    </tr>\n",
       "    <tr>\n",
       "      <th>2</th>\n",
       "      <td>2016</td>\n",
       "      <td>Los Angeles</td>\n",
       "      <td>Week 1</td>\n",
       "      <td>8</td>\n",
       "      <td>8.0</td>\n",
       "      <td>NaN</td>\n",
       "      <td>Passive</td>\n",
       "    </tr>\n",
       "    <tr>\n",
       "      <th>3</th>\n",
       "      <td>2016</td>\n",
       "      <td>Los Angeles</td>\n",
       "      <td>Week 1</td>\n",
       "      <td>8</td>\n",
       "      <td>8.0</td>\n",
       "      <td>NaN</td>\n",
       "      <td>Passive</td>\n",
       "    </tr>\n",
       "    <tr>\n",
       "      <th>4</th>\n",
       "      <td>2016</td>\n",
       "      <td>Los Angeles</td>\n",
       "      <td>Week 1</td>\n",
       "      <td>8</td>\n",
       "      <td>10.0</td>\n",
       "      <td>NaN</td>\n",
       "      <td>Passive</td>\n",
       "    </tr>\n",
       "  </tbody>\n",
       "</table>\n",
       "</div>"
      ],
      "text/plain": [
       "   Year     Location    Week  Overall Satisfaction Rating  \\\n",
       "0  2016  Los Angeles  Week 1                            6   \n",
       "1  2016  Los Angeles  Week 1                            8   \n",
       "2  2016  Los Angeles  Week 1                            8   \n",
       "3  2016  Los Angeles  Week 1                            8   \n",
       "4  2016  Los Angeles  Week 1                            8   \n",
       "\n",
       "   Schedule Pace Rating Track Net Promoter Score  \n",
       "0                   8.0   NaN          Detractor  \n",
       "1                   8.0   NaN            Passive  \n",
       "2                   8.0   NaN            Passive  \n",
       "3                   8.0   NaN            Passive  \n",
       "4                  10.0   NaN            Passive  "
      ]
     },
     "execution_count": 179,
     "metadata": {},
     "output_type": "execute_result"
    }
   ],
   "source": [
    "all2k16.head()"
   ]
  },
  {
   "cell_type": "markdown",
   "metadata": {},
   "source": [
    "# Step 4: Clean the 2017 data independently of 2016."
   ]
  },
  {
   "cell_type": "code",
   "execution_count": 180,
   "metadata": {},
   "outputs": [],
   "source": [
    "all2k17 = pd.read_csv(\"Student Feedback Surveys-Superview.csv\")"
   ]
  },
  {
   "cell_type": "code",
   "execution_count": 181,
   "metadata": {},
   "outputs": [],
   "source": [
    "# Removing rows 1310, 1322, 1411 because in lieu of nulls, they say \"#ERROR!\"\n",
    "all2k17 = all2k17.drop(index=[1310, 1322, 1411], columns=['ID'])"
   ]
  },
  {
   "cell_type": "code",
   "execution_count": 182,
   "metadata": {},
   "outputs": [],
   "source": [
    "all2k17 = all2k17.rename(index=str, columns={'Rating (Num)': 'Overall Satisfaction Rating', \\\n",
    "                                             'Schedule Pacing': 'Schedule Pace Rating'})"
   ]
  },
  {
   "cell_type": "code",
   "execution_count": 183,
   "metadata": {},
   "outputs": [],
   "source": [
    "all2k17.insert(0, 'Year', '2017')"
   ]
  },
  {
   "cell_type": "code",
   "execution_count": 184,
   "metadata": {},
   "outputs": [],
   "source": [
    "all2k17['Net Promoter Score'] = ['Promoter' if num=='10' or num=='9' else \\\n",
    "                ('Passive' if num=='8' or num=='7' else 'Detractor') \\\n",
    "                                 for num in all2k17['Overall Satisfaction Rating']]"
   ]
  },
  {
   "cell_type": "code",
   "execution_count": 185,
   "metadata": {},
   "outputs": [],
   "source": [
    "all2k17['Schedule Pace Rating'] = ['10' if speed=='Just right' else \\\n",
    "                ('8' if speed=='A little too fast' or speed=='A little too slow' else '3') \\\n",
    "                                  for speed in all2k17['Schedule Pace Rating']]"
   ]
  },
  {
   "cell_type": "code",
   "execution_count": 186,
   "metadata": {},
   "outputs": [
    {
     "data": {
      "text/html": [
       "<div>\n",
       "<style scoped>\n",
       "    .dataframe tbody tr th:only-of-type {\n",
       "        vertical-align: middle;\n",
       "    }\n",
       "\n",
       "    .dataframe tbody tr th {\n",
       "        vertical-align: top;\n",
       "    }\n",
       "\n",
       "    .dataframe thead th {\n",
       "        text-align: right;\n",
       "    }\n",
       "</style>\n",
       "<table border=\"1\" class=\"dataframe\">\n",
       "  <thead>\n",
       "    <tr style=\"text-align: right;\">\n",
       "      <th></th>\n",
       "      <th>Year</th>\n",
       "      <th>Location</th>\n",
       "      <th>Track</th>\n",
       "      <th>Week</th>\n",
       "      <th>Overall Satisfaction Rating</th>\n",
       "      <th>Schedule Pace Rating</th>\n",
       "      <th>Net Promoter Score</th>\n",
       "    </tr>\n",
       "  </thead>\n",
       "  <tbody>\n",
       "    <tr>\n",
       "      <th>0</th>\n",
       "      <td>2017</td>\n",
       "      <td>San Francisco</td>\n",
       "      <td>Apps, Explorer</td>\n",
       "      <td>Week 1</td>\n",
       "      <td>3</td>\n",
       "      <td>10</td>\n",
       "      <td>Detractor</td>\n",
       "    </tr>\n",
       "    <tr>\n",
       "      <th>1</th>\n",
       "      <td>2017</td>\n",
       "      <td>Los Angeles</td>\n",
       "      <td>Apps</td>\n",
       "      <td>Week 1</td>\n",
       "      <td>4</td>\n",
       "      <td>8</td>\n",
       "      <td>Detractor</td>\n",
       "    </tr>\n",
       "    <tr>\n",
       "      <th>2</th>\n",
       "      <td>2017</td>\n",
       "      <td>San Francisco</td>\n",
       "      <td>Games</td>\n",
       "      <td>Week 1</td>\n",
       "      <td>4</td>\n",
       "      <td>3</td>\n",
       "      <td>Detractor</td>\n",
       "    </tr>\n",
       "    <tr>\n",
       "      <th>3</th>\n",
       "      <td>2017</td>\n",
       "      <td>NaN</td>\n",
       "      <td>NaN</td>\n",
       "      <td>Week 2</td>\n",
       "      <td>4</td>\n",
       "      <td>8</td>\n",
       "      <td>Detractor</td>\n",
       "    </tr>\n",
       "    <tr>\n",
       "      <th>4</th>\n",
       "      <td>2017</td>\n",
       "      <td>New York City</td>\n",
       "      <td>Apps, Explorer</td>\n",
       "      <td>Week 1</td>\n",
       "      <td>4</td>\n",
       "      <td>10</td>\n",
       "      <td>Detractor</td>\n",
       "    </tr>\n",
       "  </tbody>\n",
       "</table>\n",
       "</div>"
      ],
      "text/plain": [
       "   Year       Location           Track    Week Overall Satisfaction Rating  \\\n",
       "0  2017  San Francisco  Apps, Explorer  Week 1                           3   \n",
       "1  2017    Los Angeles            Apps  Week 1                           4   \n",
       "2  2017  San Francisco           Games  Week 1                           4   \n",
       "3  2017            NaN             NaN  Week 2                           4   \n",
       "4  2017  New York City  Apps, Explorer  Week 1                           4   \n",
       "\n",
       "  Schedule Pace Rating Net Promoter Score  \n",
       "0                   10          Detractor  \n",
       "1                    8          Detractor  \n",
       "2                    3          Detractor  \n",
       "3                    8          Detractor  \n",
       "4                   10          Detractor  "
      ]
     },
     "execution_count": 186,
     "metadata": {},
     "output_type": "execute_result"
    }
   ],
   "source": [
    "all2k17.head()"
   ]
  },
  {
   "cell_type": "markdown",
   "metadata": {},
   "source": [
    "# Step 5: Merge the (full!) 2016 and 2017 datasets into a cumulative dataset."
   ]
  },
  {
   "cell_type": "code",
   "execution_count": 200,
   "metadata": {},
   "outputs": [],
   "source": [
    "# Time to merge.\n",
    "step5 = [all2k16, all2k17]\n",
    "ssot = pd.concat(step5, ignore_index=True, sort=False) #acronym for Single Source of Truth"
   ]
  },
  {
   "cell_type": "code",
   "execution_count": 201,
   "metadata": {},
   "outputs": [],
   "source": [
    "# Reorder columns\n",
    "ssot = ssot[['Year', 'Week', 'Track', 'Location', 'Schedule Pace Rating', 'Overall Satisfaction Rating', 'Net Promoter Score']]"
   ]
  },
  {
   "cell_type": "code",
   "execution_count": 202,
   "metadata": {},
   "outputs": [],
   "source": [
    "ssot['Schedule Pace Rating'] = ssot['Schedule Pace Rating'].fillna(0).astype(str)"
   ]
  },
  {
   "cell_type": "code",
   "execution_count": 203,
   "metadata": {},
   "outputs": [],
   "source": [
    "ssot['Schedule Pace Rating'] = ssot['Schedule Pace Rating']\\\n",
    ".apply(lambda x: np.int64(float(x)))"
   ]
  },
  {
   "cell_type": "code",
   "execution_count": 204,
   "metadata": {},
   "outputs": [],
   "source": [
    "ssot['Overall Satisfaction Rating'] = ssot['Overall Satisfaction Rating']\\\n",
    ".apply(lambda x: np.int64(x))"
   ]
  },
  {
   "cell_type": "code",
   "execution_count": 206,
   "metadata": {
    "scrolled": true
   },
   "outputs": [],
   "source": [
    "# Some error correction\n",
    "ssot = ssot.drop(columns=['Net Promoter Score'])"
   ]
  },
  {
   "cell_type": "code",
   "execution_count": 207,
   "metadata": {},
   "outputs": [],
   "source": [
    "ssot['Net Promoter Status'] = ssot['Overall Satisfaction Rating']\\\n",
    ".apply(lambda num: 'Promoter' if num==10 or num==9 \\\n",
    "      else ('Passive' if num==8 or num==7 \\\n",
    "           else ('Detractor' if num<7 and num>0 else 'None')))"
   ]
  },
  {
   "cell_type": "markdown",
   "metadata": {},
   "source": [
    "### Behold the Single Source of Truth! (well, part of it)"
   ]
  },
  {
   "cell_type": "code",
   "execution_count": 209,
   "metadata": {},
   "outputs": [
    {
     "data": {
      "text/html": [
       "<div>\n",
       "<style scoped>\n",
       "    .dataframe tbody tr th:only-of-type {\n",
       "        vertical-align: middle;\n",
       "    }\n",
       "\n",
       "    .dataframe tbody tr th {\n",
       "        vertical-align: top;\n",
       "    }\n",
       "\n",
       "    .dataframe thead th {\n",
       "        text-align: right;\n",
       "    }\n",
       "</style>\n",
       "<table border=\"1\" class=\"dataframe\">\n",
       "  <thead>\n",
       "    <tr style=\"text-align: right;\">\n",
       "      <th></th>\n",
       "      <th>Year</th>\n",
       "      <th>Week</th>\n",
       "      <th>Track</th>\n",
       "      <th>Location</th>\n",
       "      <th>Schedule Pace Rating</th>\n",
       "      <th>Overall Satisfaction Rating</th>\n",
       "      <th>Net Promoter Status</th>\n",
       "    </tr>\n",
       "  </thead>\n",
       "  <tbody>\n",
       "    <tr>\n",
       "      <th>0</th>\n",
       "      <td>2016</td>\n",
       "      <td>Week 1</td>\n",
       "      <td>NaN</td>\n",
       "      <td>Los Angeles</td>\n",
       "      <td>8</td>\n",
       "      <td>6</td>\n",
       "      <td>Detractor</td>\n",
       "    </tr>\n",
       "    <tr>\n",
       "      <th>1</th>\n",
       "      <td>2016</td>\n",
       "      <td>Week 1</td>\n",
       "      <td>NaN</td>\n",
       "      <td>Los Angeles</td>\n",
       "      <td>8</td>\n",
       "      <td>8</td>\n",
       "      <td>Passive</td>\n",
       "    </tr>\n",
       "    <tr>\n",
       "      <th>2</th>\n",
       "      <td>2016</td>\n",
       "      <td>Week 1</td>\n",
       "      <td>NaN</td>\n",
       "      <td>Los Angeles</td>\n",
       "      <td>8</td>\n",
       "      <td>8</td>\n",
       "      <td>Passive</td>\n",
       "    </tr>\n",
       "    <tr>\n",
       "      <th>3</th>\n",
       "      <td>2016</td>\n",
       "      <td>Week 1</td>\n",
       "      <td>NaN</td>\n",
       "      <td>Los Angeles</td>\n",
       "      <td>8</td>\n",
       "      <td>8</td>\n",
       "      <td>Passive</td>\n",
       "    </tr>\n",
       "    <tr>\n",
       "      <th>4</th>\n",
       "      <td>2016</td>\n",
       "      <td>Week 1</td>\n",
       "      <td>NaN</td>\n",
       "      <td>Los Angeles</td>\n",
       "      <td>10</td>\n",
       "      <td>8</td>\n",
       "      <td>Passive</td>\n",
       "    </tr>\n",
       "  </tbody>\n",
       "</table>\n",
       "</div>"
      ],
      "text/plain": [
       "   Year    Week Track     Location  Schedule Pace Rating  \\\n",
       "0  2016  Week 1   NaN  Los Angeles                     8   \n",
       "1  2016  Week 1   NaN  Los Angeles                     8   \n",
       "2  2016  Week 1   NaN  Los Angeles                     8   \n",
       "3  2016  Week 1   NaN  Los Angeles                     8   \n",
       "4  2016  Week 1   NaN  Los Angeles                    10   \n",
       "\n",
       "   Overall Satisfaction Rating Net Promoter Status  \n",
       "0                            6           Detractor  \n",
       "1                            8             Passive  \n",
       "2                            8             Passive  \n",
       "3                            8             Passive  \n",
       "4                            8             Passive  "
      ]
     },
     "execution_count": 209,
     "metadata": {},
     "output_type": "execute_result"
    }
   ],
   "source": [
    "ssot.head()"
   ]
  },
  {
   "cell_type": "code",
   "execution_count": 210,
   "metadata": {},
   "outputs": [],
   "source": [
    "# Save ssot dataframe for access in other files\n",
    "ssot.to_pickle('./ssot.pkl')"
   ]
  },
  {
   "cell_type": "code",
   "execution_count": null,
   "metadata": {},
   "outputs": [],
   "source": []
  }
 ],
 "metadata": {
  "kernelspec": {
   "display_name": "Python 3",
   "language": "python",
   "name": "python3"
  },
  "language_info": {
   "codemirror_mode": {
    "name": "ipython",
    "version": 3
   },
   "file_extension": ".py",
   "mimetype": "text/x-python",
   "name": "python",
   "nbconvert_exporter": "python",
   "pygments_lexer": "ipython3",
   "version": "3.7.1"
  }
 },
 "nbformat": 4,
 "nbformat_minor": 2
}
