{
 "cells": [
  {
   "cell_type": "markdown",
   "metadata": {},
   "source": [
    "# Outlier Detection\n",
    "Outliers are extreme values that can skew our dataset, sometimes giving us an incorrect picture of how things actually are in our dataset. The hardest part of this is determining which data points are acceptable, and which ones constitute \"outlier\" status."
   ]
  },
  {
   "cell_type": "markdown",
   "metadata": {},
   "source": [
    "# Activity: Find and remove outliers if our dataset is Normal\n",
    "When our sample data is close to normal distribution, the samples that be outside of three standard deviation can be considered as outliers.\n",
    "\n",
    "Task: Write a function that first find outliers for a normally distributed data, then remove them."
   ]
  },
  {
   "cell_type": "code",
   "execution_count": 1,
   "metadata": {},
   "outputs": [],
   "source": [
    "import numpy as np\n",
    "\n",
    "def find_remove_outlier(data_sample):\n",
    "    # calculate summary statistics\n",
    "    data_mean, data_std = np.mean(data), np.std(data)\n",
    "    # define cut-off\n",
    "    cut_off = data_std * 3\n",
    "    lower, upper = data_mean - cut_off, data_mean + cut_off\n",
    "    # identify outliers\n",
    "    outliers = [x for x in data_sample if x < lower or x > upper]\n",
    "    # remove outliers\n",
    "    outliers_removed = [x for x in data_sample if x > lower and x < upper]\n",
    "    return outliers, outliers_removed"
   ]
  },
  {
   "cell_type": "markdown",
   "metadata": {},
   "source": [
    "# Interquartile range (IQR) for finding and removing outlier when data has any distribution (10 min)\n",
    "Tukey suggested to calculate the range between the first quartile (25%) and third quartile (75%) in the data, called the interquartile range (IQR)."
   ]
  },
  {
   "cell_type": "markdown",
   "metadata": {},
   "source": [
    "# Activity: IQR outlier detection and removal\n",
    "Task: write a function to find and remove outliers based on IQR method for this data sample: Hint: $Q_1$ is the first quartile (25%) $Q_3$ is the third quartile (75%)"
   ]
  },
  {
   "cell_type": "raw",
   "metadata": {},
   "source": [
    "x = [scipy.stats.norm.rvs(loc=5 , scale=1 , size=100), -5, 11, 14]"
   ]
  },
  {
   "cell_type": "code",
   "execution_count": 6,
   "metadata": {},
   "outputs": [
    {
     "name": "stdout",
     "output_type": "stream",
     "text": [
      "<class 'numpy.ndarray'>\n",
      "[7.8511786048585686, -5.0, 11.0, 14.0]\n",
      "1.2966243128381958\n"
     ]
    }
   ],
   "source": [
    "import numpy as np\n",
    "from scipy import stats\n",
    "\n",
    "def find_remove_outlier_iqr(data_sample):\n",
    "    # calculate interquartile range\n",
    "    q25, q75 = np.percentile(data_sample, 25), np.percentile(data_sample, 75)\n",
    "    iqr = q75 - q25\n",
    "    # calculate the outlier cutoff\n",
    "    cut_off = iqr * 1.5\n",
    "    lower, upper = q25 - cut_off, q75 + cut_off\n",
    "    # identify outliers\n",
    "    outliers = [x for x in data_sample if x < lower or x > upper]\n",
    "    # remove outliers\n",
    "    outliers_removed = [x for x in data_sample if x > lower and x < upper]\n",
    "    return outliers\n",
    "\n",
    "y = np.array([-5, 11, 14])\n",
    "x =  np.concatenate((stats.norm.rvs(loc=5 , scale=1 , size=100), y))\n",
    "print(type(x))\n",
    "print(find_remove_outlier_iqr(x))\n",
    "print(scipy.stats.iqr(x))\n",
    "#space\n",
    "#space\n",
    "#space"
   ]
  },
  {
   "cell_type": "markdown",
   "metadata": {},
   "source": [
    "# How we can visually see the outlier?¶\n",
    "Box plot use the IQR method to display data and outliers\n"
   ]
  },
  {
   "cell_type": "code",
   "execution_count": 9,
   "metadata": {},
   "outputs": [
    {
     "data": {
      "image/png": "[encoded data removed]",
      "text/plain": [
       "<Figure size 432x288 with 1 Axes>"
      ]
     },
     "metadata": {
      "needs_background": "light"
     },
     "output_type": "display_data"
    }
   ],
   "source": [
    "import matplotlib.pyplot as plt\n",
    "\n",
    "plt.boxplot(x)\n",
    "\n",
    "plt.show()"
   ]
  },
  {
   "cell_type": "markdown",
   "metadata": {},
   "source": [
    "## Statistical Analysis\n",
    "\n",
    "We have learned null hypothesis, and compared two-sample test to check whether two samples are the same or not\n",
    "\n",
    "To add more to statistical analysis, the follwoing topics should be covered:\n",
    "\n",
    "1- Approxite the histogram of data with combination of Gaussian (Normal) distribution functions:\n",
    "\n",
    "    Gaussian Mixture Model (GMM)\n",
    "    Kernel Density Estimation (KDE)\n",
    "    \n",
    "2- Correlation among features"
   ]
  },
  {
   "cell_type": "markdown",
   "metadata": {},
   "source": [
    "## Review\n",
    "\n",
    "Write a function that computes and plot histogram of a given data\n",
    "\n",
    "Histogram is one method for estimating density"
   ]
  },
  {
   "cell_type": "markdown",
   "metadata": {},
   "source": [
    "## What is Gaussian Mixture Model (GMM)?\n",
    "\n",
    "GMM is a probabilistic model for representing normally distributed subpopulations within an overall population\n",
    "\n",
    "<img src=\"Images/gmm_fig.png\" width=\"300\">\n",
    "\n",
    "$p(x) = \\sum_{i = 1}^{K} w_i \\ \\mathcal{N}(x \\ | \\ \\mu_i,\\ \\sigma_i)$\n",
    "\n",
    "$\\sum_{i=1}^{K} w_i = 1$\n",
    "\n",
    "https://brilliant.org/wiki/gaussian-mixture-model/\n",
    "\n",
    "The picture won't load because I don't actually have it, but it's basically three skinny Normals next to one another, and the GMM is .. like.. a curve over them?\n"
   ]
  },
  {
   "cell_type": "markdown",
   "metadata": {},
   "source": [
    "## Activity : Fit a GMM to a given data sample \n",
    "\n",
    "Task: \n",
    "\n",
    "1- Generate the concatination of the random variables as follows:\n",
    "\n",
    "`x_1 = np.random.normal(-5, 1, 3000)\n",
    "x_2 = np.random.normal(2, 3, 7000) \n",
    "x = np.concatenate((x_1, x_2))`\n",
    "\n",
    "2- Plot the histogram of `x`\n",
    "\n",
    "3- Obtain the weights, mean and variances of each Gassuian\n",
    "\n",
    "Steps needed: \n",
    "`from sklearn import mixture \n",
    "gmm = mixture.GaussianMixture(n_components=2)\n",
    "gmm.fit(x.reshape(-1,1))`"
   ]
  },
  {
   "cell_type": "code",
   "execution_count": 12,
   "metadata": {},
   "outputs": [
    {
     "data": {
      "image/png": "[encoded data removed]",
      "text/plain": [
       "<Figure size 432x288 with 1 Axes>"
      ]
     },
     "metadata": {
      "needs_background": "light"
     },
     "output_type": "display_data"
    },
    {
     "name": "stdout",
     "output_type": "stream",
     "text": [
      "means: [[-4.93408789]\n",
      " [ 2.10065774]]\n",
      "covariances: [[[1.07740923]]\n",
      "\n",
      " [[8.4298417 ]]]\n",
      "weights: [0.31280586 0.68719414]\n"
     ]
    }
   ],
   "source": [
    "import numpy as np\n",
    "import matplotlib.pyplot as plt\n",
    "from sklearn import mixture\n",
    "\n",
    "# Generate data samples and plot its histogram\n",
    "x_1 = np.random.normal(-5, 1, 3000)\n",
    "x_2 = np.random.normal(2, 3, 7000) \n",
    "x = np.concatenate((x_1, x_2))\n",
    "plt.hist(x, bins=20, density=1)\n",
    "plt.show()\n",
    "\n",
    "# Define a GMM model and obtain its parameters\n",
    "gmm = mixture.GaussianMixture(n_components=2) # define our GMM model\n",
    "gmm.fit(x.reshape(-1,1)) # fit needs our samples as input arguments\n",
    "print(\"means: \" + str(gmm.means_))\n",
    "print(\"covariances: \" + str(gmm.covariances_))\n",
    "print(\"weights: \" + str(gmm.weights_))"
   ]
  },
  {
   "cell_type": "markdown",
   "metadata": {},
   "source": [
    "## The GMM has learn the probability density function of our data sample\n",
    "\n",
    "Lets the model generate sample from it model:\n",
    "\n"
   ]
  },
  {
   "cell_type": "code",
   "execution_count": 13,
   "metadata": {},
   "outputs": [
    {
     "data": {
      "image/png": "[encoded data removed]",
      "text/plain": [
       "<Figure size 432x288 with 1 Axes>"
      ]
     },
     "metadata": {
      "needs_background": "light"
     },
     "output_type": "display_data"
    }
   ],
   "source": [
    "z = gmm.sample(10000)\n",
    "plt.hist(z[0], bins=20, density=1)\n",
    "plt.show()"
   ]
  },
  {
   "cell_type": "markdown",
   "metadata": {},
   "source": [
    "## Kernel Density Estimation (KDE)\n",
    "\n",
    "Kernel density estimation (KDE) is a non-parametric way to estimate the probability density function of a random variable. In other words the aim of KDE is to find probability density function (PDF) for a given dataset.\n",
    "\n",
    "Approximate the pdf of dataset:\n",
    "\n",
    "$p(x) = \\frac{1}{Nh}\\sum_{i = 1}^{N} \\ K(\\frac{x - x_i}{h})$\n",
    "\n",
    "where $h$ is a bandwidth and $N$ is the number of data points"
   ]
  },
  {
   "cell_type": "markdown",
   "metadata": {},
   "source": [
    "## Activity: Apply KDE on a given data sample\n",
    "\n",
    "Task: Apply KDE on previous generated sample data `x`\n",
    "\n",
    "Hint: use \n",
    "\n",
    "`kde = KernelDensity(kernel='gaussian', bandwidth=0.6)`"
   ]
  },
  {
   "cell_type": "code",
   "execution_count": 14,
   "metadata": {},
   "outputs": [
    {
     "data": {
      "text/plain": [
       "[<matplotlib.lines.Line2D at 0x1a1f963d30>]"
      ]
     },
     "execution_count": 14,
     "metadata": {},
     "output_type": "execute_result"
    },
    {
     "data": {
      "image/png": "[encoded data removed]",
      "text/plain": [
       "<Figure size 432x288 with 1 Axes>"
      ]
     },
     "metadata": {
      "needs_background": "light"
     },
     "output_type": "display_data"
    }
   ],
   "source": [
    "from sklearn.neighbors import KernelDensity\n",
    "\n",
    "kde = KernelDensity(kernel='gaussian', bandwidth=0.6)\n",
    "kde.fit(x.reshape(-1,1))\n",
    "\n",
    "s = np.linspace(np.min(x), np.max(x))\n",
    "log_pdf = kde.score_samples(s.reshape(-1,1))\n",
    "plt.plot(s, np.exp(log_pdf))"
   ]
  },
  {
   "cell_type": "code",
   "execution_count": 15,
   "metadata": {},
   "outputs": [
    {
     "data": {
      "image/png": "[encoded data removed]",
      "text/plain": [
       "<Figure size 432x288 with 1 Axes>"
      ]
     },
     "metadata": {
      "needs_background": "light"
     },
     "output_type": "display_data"
    }
   ],
   "source": [
    "m = kde.sample(10000)\n",
    "plt.hist(m, bins=20, density=1)\n",
    "plt.show()"
   ]
  },
  {
   "cell_type": "markdown",
   "metadata": {},
   "source": [
    "## KDE can learn handwitten digits distribution and generate new digits\n",
    "#### This is just neat - it is not going to be on the final exam\n",
    "\n",
    "http://scikit-learn.org/stable/auto_examples/neighbors/plot_digits_kde_sampling.html"
   ]
  },
  {
   "cell_type": "markdown",
   "metadata": {},
   "source": [
    "## Correlation \n",
    "\n",
    "Correlation is used to test relationships between quantitative variables\n",
    "\n",
    "Some examples of data that have a high correlation:\n",
    "\n",
    "1- Your caloric intake and your weight\n",
    "\n",
    "2- The amount of time your study and your GPA\n",
    "\n",
    "Question what is negative correlation?\n",
    "\n",
    "Correlations are useful because we can find out what relationship variables have, we can make predictions about future behavior. "
   ]
  },
  {
   "cell_type": "markdown",
   "metadata": {},
   "source": [
    "## Activity: Obtain the correlation among all features of iris dataset\n",
    "\n",
    "1- Review the iris dataset. What are the features? \n",
    "\n",
    "2- Eliminate two columns `['Id', 'Species']`\n",
    "\n",
    "3- Compute the correlation among all features. \n",
    "\n",
    "Hint: Use `df.corr()`\n",
    "\n",
    "4- Plot the correlation by heatmap and corr plot in Seaborn -> `sns.heatmap`, `sns.corrplot`\n",
    "\n",
    "5- Write a function that computes the correlation (Pearson formula)\n",
    "\n",
    "Hint: https://en.wikipedia.org/wiki/Pearson_correlation_coefficient\n",
    "\n",
    "6- Compare your answer with `scipy.stats.pearsonr` for any given two features\n"
   ]
  },
  {
   "cell_type": "code",
   "execution_count": 17,
   "metadata": {},
   "outputs": [
    {
     "name": "stdout",
     "output_type": "stream",
     "text": [
      "0.8717541573048714\n",
      "(0.8717541573048712, 1.0384540627941809e-47)\n"
     ]
    },
    {
     "data": {
      "image/png": "[encoded data removed]",
      "text/plain": [
       "<Figure size 432x288 with 2 Axes>"
      ]
     },
     "metadata": {
      "needs_background": "light"
     },
     "output_type": "display_data"
    }
   ],
   "source": [
    "import pandas as pd\n",
    "import numpy as np\n",
    "import scipy.stats\n",
    "import seaborn as sns\n",
    "import scipy.stats\n",
    "\n",
    "df = pd.read_csv('Iris.csv')\n",
    "df = df.drop(columns=['Id', 'Species'])\n",
    "sns.heatmap(df.corr(), annot=True)\n",
    "\n",
    "def pearson_corr(x, y):\n",
    "    x_mean = np.mean(x)\n",
    "    y_mean = np.mean(y)\n",
    "    num = [(i - x_mean)*(j - y_mean) for i,j in zip(x,y)]\n",
    "    den_1 = [(i - x_mean)**2 for i in x]\n",
    "    den_2 = [(j - y_mean)**2 for j in y]\n",
    "    correlation_x_y = np.sum(num)/np.sqrt(np.sum(den_1))/np.sqrt(np.sum(den_2))\n",
    "    return correlation_x_y\n",
    "\n",
    "print(pearson_corr(df['SepalLengthCm'], df['PetalLengthCm']))\n",
    "print(scipy.stats.pearsonr(df['SepalLengthCm'], df['PetalLengthCm']))"
   ]
  },
  {
   "cell_type": "code",
   "execution_count": null,
   "metadata": {},
   "outputs": [],
   "source": []
  }
 ],
 "metadata": {
  "kernelspec": {
   "display_name": "Python 3",
   "language": "python",
   "name": "python3"
  },
  "language_info": {
   "codemirror_mode": {
    "name": "ipython",
    "version": 3
   },
   "file_extension": ".py",
   "mimetype": "text/x-python",
   "name": "python",
   "nbconvert_exporter": "python",
   "pygments_lexer": "ipython3",
   "version": "3.7.1"
  }
 },
 "nbformat": 4,
 "nbformat_minor": 2
}
