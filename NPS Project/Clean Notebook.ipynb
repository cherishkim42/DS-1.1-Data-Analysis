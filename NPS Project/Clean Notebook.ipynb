{
 "cells": [
  {
   "cell_type": "code",
   "execution_count": 2,
   "metadata": {},
   "outputs": [],
   "source": [
    "from scipy import stats\n",
    "import math\n",
    "import csv\n",
    "import numpy as np\n",
    "import pandas as pd\n",
    "import seaborn as sns\n",
    "import matplotlib.pyplot as plt"
   ]
  },
  {
   "cell_type": "markdown",
   "metadata": {},
   "source": [
    "# Single Source of Truth\n",
    "\n",
    "I took my Single Source of Truth, named **ssot**, and saved it in the same folder as the original dataset CSVs:\n",
    "\n",
    "**ssot.to_pickle('./ssot.pkl')**\n",
    "\n",
    "To open a dataset saved with **.to_pickle()** in a new notebook, you use terminal (in the new notebook, of course) to get to the right directory and then type:\n",
    "\n",
    "**variable_name = pd.read_pickle('./ssot.pkl')**"
   ]
  },
  {
   "cell_type": "code",
   "execution_count": 41,
   "metadata": {},
   "outputs": [
    {
     "name": "stdout",
     "output_type": "stream",
     "text": [
      "/Users/cherishkim/Code/school_projects/DS11/Assignments/DS/NPS Project/SA/CSVs\n"
     ]
    }
   ],
   "source": [
    "cd CSVs"
   ]
  },
  {
   "cell_type": "code",
   "execution_count": 42,
   "metadata": {},
   "outputs": [
    {
     "data": {
      "text/html": [
       "<div>\n",
       "<style scoped>\n",
       "    .dataframe tbody tr th:only-of-type {\n",
       "        vertical-align: middle;\n",
       "    }\n",
       "\n",
       "    .dataframe tbody tr th {\n",
       "        vertical-align: top;\n",
       "    }\n",
       "\n",
       "    .dataframe thead th {\n",
       "        text-align: right;\n",
       "    }\n",
       "</style>\n",
       "<table border=\"1\" class=\"dataframe\">\n",
       "  <thead>\n",
       "    <tr style=\"text-align: right;\">\n",
       "      <th></th>\n",
       "      <th>Year</th>\n",
       "      <th>Week</th>\n",
       "      <th>Track</th>\n",
       "      <th>Location</th>\n",
       "      <th>Schedule Pace Rating</th>\n",
       "      <th>Overall Satisfaction Rating</th>\n",
       "      <th>Net Promoter Status</th>\n",
       "    </tr>\n",
       "  </thead>\n",
       "  <tbody>\n",
       "    <tr>\n",
       "      <th>0</th>\n",
       "      <td>2016</td>\n",
       "      <td>Week 1</td>\n",
       "      <td>NaN</td>\n",
       "      <td>Los Angeles</td>\n",
       "      <td>8</td>\n",
       "      <td>6</td>\n",
       "      <td>Detractor</td>\n",
       "    </tr>\n",
       "    <tr>\n",
       "      <th>1</th>\n",
       "      <td>2016</td>\n",
       "      <td>Week 1</td>\n",
       "      <td>NaN</td>\n",
       "      <td>Los Angeles</td>\n",
       "      <td>8</td>\n",
       "      <td>8</td>\n",
       "      <td>Passive</td>\n",
       "    </tr>\n",
       "    <tr>\n",
       "      <th>2</th>\n",
       "      <td>2016</td>\n",
       "      <td>Week 1</td>\n",
       "      <td>NaN</td>\n",
       "      <td>Los Angeles</td>\n",
       "      <td>8</td>\n",
       "      <td>8</td>\n",
       "      <td>Passive</td>\n",
       "    </tr>\n",
       "    <tr>\n",
       "      <th>3</th>\n",
       "      <td>2016</td>\n",
       "      <td>Week 1</td>\n",
       "      <td>NaN</td>\n",
       "      <td>Los Angeles</td>\n",
       "      <td>8</td>\n",
       "      <td>8</td>\n",
       "      <td>Passive</td>\n",
       "    </tr>\n",
       "    <tr>\n",
       "      <th>4</th>\n",
       "      <td>2016</td>\n",
       "      <td>Week 1</td>\n",
       "      <td>NaN</td>\n",
       "      <td>Los Angeles</td>\n",
       "      <td>10</td>\n",
       "      <td>8</td>\n",
       "      <td>Passive</td>\n",
       "    </tr>\n",
       "  </tbody>\n",
       "</table>\n",
       "</div>"
      ],
      "text/plain": [
       "   Year    Week Track     Location  Schedule Pace Rating  \\\n",
       "0  2016  Week 1   NaN  Los Angeles                     8   \n",
       "1  2016  Week 1   NaN  Los Angeles                     8   \n",
       "2  2016  Week 1   NaN  Los Angeles                     8   \n",
       "3  2016  Week 1   NaN  Los Angeles                     8   \n",
       "4  2016  Week 1   NaN  Los Angeles                    10   \n",
       "\n",
       "   Overall Satisfaction Rating Net Promoter Status  \n",
       "0                            6           Detractor  \n",
       "1                            8             Passive  \n",
       "2                            8             Passive  \n",
       "3                            8             Passive  \n",
       "4                            8             Passive  "
      ]
     },
     "execution_count": 42,
     "metadata": {},
     "output_type": "execute_result"
    }
   ],
   "source": [
    "ssot = pd.read_pickle('./ssot.pkl')\n",
    "ssot.head()"
   ]
  },
  {
   "cell_type": "markdown",
   "metadata": {},
   "source": [
    "I dropped rows that had #ERROR written where a score should have been (in the 5th and 6th columns). **Why?**\n",
    "\n",
    "* They prevented me from casting the scores as integers, rather than as strings.\n",
    "* Without an actual score to work with, those data points were useless. I couldn't even say they were passives, because to be passives, they would have needed a score.\n",
    "\n",
    "My NPS calculation may therefore differ a little bit from yours if you didn't drop these rows."
   ]
  },
  {
   "cell_type": "markdown",
   "metadata": {},
   "source": [
    "# NPS Calculation\n",
    "\n",
    "The formula for Net Promoter Score is as follows:\n",
    "\n",
    "**((# of promoters) - (# of detractors)) / (# of total responses)) * 100**"
   ]
  },
  {
   "cell_type": "code",
   "execution_count": 47,
   "metadata": {},
   "outputs": [
    {
     "name": "stdout",
     "output_type": "stream",
     "text": [
      "NPS Calculation: 36.25563293732077\n"
     ]
    }
   ],
   "source": [
    "promo = len(ssot[(ssot['Net Promoter Status']=='Promoter')])\n",
    "detract = len(ssot[(ssot['Net Promoter Status']=='Detractor')])\n",
    "total = len(ssot)\n",
    "nps = str(((promo - detract)/total) * 100)\n",
    "print(\"NPS Calculation: \" + nps)"
   ]
  },
  {
   "cell_type": "markdown",
   "metadata": {},
   "source": [
    "# Question Time!"
   ]
  },
  {
   "cell_type": "markdown",
   "metadata": {},
   "source": [
    "## (Thanks, Kash!) Did percentage of promoters increase or decrease from 2016 to 2017?"
   ]
  },
  {
   "cell_type": "markdown",
   "metadata": {},
   "source": [
    "First, let's find the percentage of promoters from each year. Percentage is calculated simply:\n",
    "\n",
    "**(# of promoters)/(# of total responses)**"
   ]
  },
  {
   "cell_type": "code",
   "execution_count": 58,
   "metadata": {},
   "outputs": [
    {
     "name": "stdout",
     "output_type": "stream",
     "text": [
      "397 out of 991 respondents in 2016 were promoters, coming to 40.06054490413724%. 760 out of 1450 respondents in 2017 were promoters, coming to 52.41379310344828%. That's quite the increase!\n"
     ]
    }
   ],
   "source": [
    "promo16 = len(ssot[(ssot['Net Promoter Status']=='Promoter') & (ssot['Year']=='2016')])\n",
    "total16 = len(ssot[(ssot['Year']=='2016')])\n",
    "promo16_penny = str((promo16/total16) * 100)\n",
    "promo17 = len(ssot[(ssot['Net Promoter Status']=='Promoter') & (ssot['Year']=='2017')])\n",
    "total17 = len(ssot[(ssot['Year']=='2017')])\n",
    "promo17_penny = str((promo17/total17) * 100)\n",
    "print(str(promo16) + \" out of \" + str(total16) + \\\n",
    "      \" respondents in 2016 were promoters, coming to \" + str(promo16_penny) + \"%. \" + \\\n",
    "      str(promo17) + \" out of \" + str(total17) + \\\n",
    "      \" respondents in 2017 were promoters, coming to \" + str(promo17_penny) + \\\n",
    "      \"%. That's quite the increase!\")"
   ]
  },
  {
   "cell_type": "markdown",
   "metadata": {},
   "source": [
    "# ADD SOME KIND OF VISUAL HERE. IT DOESN'T EVEN HAVE TO BE PRETTY."
   ]
  },
  {
   "cell_type": "code",
   "execution_count": 120,
   "metadata": {},
   "outputs": [],
   "source": [
    "# space space space"
   ]
  },
  {
   "cell_type": "markdown",
   "metadata": {},
   "source": [
    "## What was the average Schedule Pace Rating score for promoters, passives, and detractors?"
   ]
  },
  {
   "cell_type": "markdown",
   "metadata": {},
   "source": [
    "Let's find the averages! We can use **.describe()**, whose purpose in life is to tell us the count, mean, median, and standard deviation of a dataframe."
   ]
  },
  {
   "cell_type": "code",
   "execution_count": 121,
   "metadata": {},
   "outputs": [
    {
     "data": {
      "text/html": [
       "<div>\n",
       "<style scoped>\n",
       "    .dataframe tbody tr th:only-of-type {\n",
       "        vertical-align: middle;\n",
       "    }\n",
       "\n",
       "    .dataframe tbody tr th {\n",
       "        vertical-align: top;\n",
       "    }\n",
       "\n",
       "    .dataframe thead th {\n",
       "        text-align: right;\n",
       "    }\n",
       "</style>\n",
       "<table border=\"1\" class=\"dataframe\">\n",
       "  <thead>\n",
       "    <tr style=\"text-align: right;\">\n",
       "      <th></th>\n",
       "      <th>Schedule Pace Rating</th>\n",
       "      <th>Overall Satisfaction Rating</th>\n",
       "    </tr>\n",
       "  </thead>\n",
       "  <tbody>\n",
       "    <tr>\n",
       "      <th>count</th>\n",
       "      <td>1157.000000</td>\n",
       "      <td>1157.000000</td>\n",
       "    </tr>\n",
       "    <tr>\n",
       "      <th>mean</th>\n",
       "      <td>8.225583</td>\n",
       "      <td>9.656007</td>\n",
       "    </tr>\n",
       "    <tr>\n",
       "      <th>std</th>\n",
       "      <td>2.381831</td>\n",
       "      <td>0.475244</td>\n",
       "    </tr>\n",
       "    <tr>\n",
       "      <th>min</th>\n",
       "      <td>0.000000</td>\n",
       "      <td>9.000000</td>\n",
       "    </tr>\n",
       "    <tr>\n",
       "      <th>25%</th>\n",
       "      <td>6.000000</td>\n",
       "      <td>9.000000</td>\n",
       "    </tr>\n",
       "    <tr>\n",
       "      <th>50%</th>\n",
       "      <td>10.000000</td>\n",
       "      <td>10.000000</td>\n",
       "    </tr>\n",
       "    <tr>\n",
       "      <th>75%</th>\n",
       "      <td>10.000000</td>\n",
       "      <td>10.000000</td>\n",
       "    </tr>\n",
       "    <tr>\n",
       "      <th>max</th>\n",
       "      <td>10.000000</td>\n",
       "      <td>10.000000</td>\n",
       "    </tr>\n",
       "  </tbody>\n",
       "</table>\n",
       "</div>"
      ],
      "text/plain": [
       "       Schedule Pace Rating  Overall Satisfaction Rating\n",
       "count           1157.000000                  1157.000000\n",
       "mean               8.225583                     9.656007\n",
       "std                2.381831                     0.475244\n",
       "min                0.000000                     9.000000\n",
       "25%                6.000000                     9.000000\n",
       "50%               10.000000                    10.000000\n",
       "75%               10.000000                    10.000000\n",
       "max               10.000000                    10.000000"
      ]
     },
     "execution_count": 121,
     "metadata": {},
     "output_type": "execute_result"
    }
   ],
   "source": [
    "promo_only = ssot[(ssot['Net Promoter Status'] == 'Promoter')]\n",
    "promo_only.describe()"
   ]
  },
  {
   "cell_type": "code",
   "execution_count": 122,
   "metadata": {},
   "outputs": [
    {
     "data": {
      "text/html": [
       "<div>\n",
       "<style scoped>\n",
       "    .dataframe tbody tr th:only-of-type {\n",
       "        vertical-align: middle;\n",
       "    }\n",
       "\n",
       "    .dataframe tbody tr th {\n",
       "        vertical-align: top;\n",
       "    }\n",
       "\n",
       "    .dataframe thead th {\n",
       "        text-align: right;\n",
       "    }\n",
       "</style>\n",
       "<table border=\"1\" class=\"dataframe\">\n",
       "  <thead>\n",
       "    <tr style=\"text-align: right;\">\n",
       "      <th></th>\n",
       "      <th>Schedule Pace Rating</th>\n",
       "      <th>Overall Satisfaction Rating</th>\n",
       "    </tr>\n",
       "  </thead>\n",
       "  <tbody>\n",
       "    <tr>\n",
       "      <th>count</th>\n",
       "      <td>1010.000000</td>\n",
       "      <td>1010.000000</td>\n",
       "    </tr>\n",
       "    <tr>\n",
       "      <th>mean</th>\n",
       "      <td>8.005941</td>\n",
       "      <td>7.818812</td>\n",
       "    </tr>\n",
       "    <tr>\n",
       "      <th>std</th>\n",
       "      <td>2.061965</td>\n",
       "      <td>0.385365</td>\n",
       "    </tr>\n",
       "    <tr>\n",
       "      <th>min</th>\n",
       "      <td>0.000000</td>\n",
       "      <td>7.000000</td>\n",
       "    </tr>\n",
       "    <tr>\n",
       "      <th>25%</th>\n",
       "      <td>6.000000</td>\n",
       "      <td>8.000000</td>\n",
       "    </tr>\n",
       "    <tr>\n",
       "      <th>50%</th>\n",
       "      <td>8.000000</td>\n",
       "      <td>8.000000</td>\n",
       "    </tr>\n",
       "    <tr>\n",
       "      <th>75%</th>\n",
       "      <td>10.000000</td>\n",
       "      <td>8.000000</td>\n",
       "    </tr>\n",
       "    <tr>\n",
       "      <th>max</th>\n",
       "      <td>10.000000</td>\n",
       "      <td>8.000000</td>\n",
       "    </tr>\n",
       "  </tbody>\n",
       "</table>\n",
       "</div>"
      ],
      "text/plain": [
       "       Schedule Pace Rating  Overall Satisfaction Rating\n",
       "count           1010.000000                  1010.000000\n",
       "mean               8.005941                     7.818812\n",
       "std                2.061965                     0.385365\n",
       "min                0.000000                     7.000000\n",
       "25%                6.000000                     8.000000\n",
       "50%                8.000000                     8.000000\n",
       "75%               10.000000                     8.000000\n",
       "max               10.000000                     8.000000"
      ]
     },
     "execution_count": 122,
     "metadata": {},
     "output_type": "execute_result"
    }
   ],
   "source": [
    "pass_only = ssot[(ssot['Net Promoter Status'] == 'Passive')]\n",
    "pass_only.describe()"
   ]
  },
  {
   "cell_type": "code",
   "execution_count": 123,
   "metadata": {},
   "outputs": [
    {
     "data": {
      "text/html": [
       "<div>\n",
       "<style scoped>\n",
       "    .dataframe tbody tr th:only-of-type {\n",
       "        vertical-align: middle;\n",
       "    }\n",
       "\n",
       "    .dataframe tbody tr th {\n",
       "        vertical-align: top;\n",
       "    }\n",
       "\n",
       "    .dataframe thead th {\n",
       "        text-align: right;\n",
       "    }\n",
       "</style>\n",
       "<table border=\"1\" class=\"dataframe\">\n",
       "  <thead>\n",
       "    <tr style=\"text-align: right;\">\n",
       "      <th></th>\n",
       "      <th>Schedule Pace Rating</th>\n",
       "      <th>Overall Satisfaction Rating</th>\n",
       "    </tr>\n",
       "  </thead>\n",
       "  <tbody>\n",
       "    <tr>\n",
       "      <th>count</th>\n",
       "      <td>272.000000</td>\n",
       "      <td>272.000000</td>\n",
       "    </tr>\n",
       "    <tr>\n",
       "      <th>mean</th>\n",
       "      <td>7.349265</td>\n",
       "      <td>5.349265</td>\n",
       "    </tr>\n",
       "    <tr>\n",
       "      <th>std</th>\n",
       "      <td>2.383693</td>\n",
       "      <td>1.123089</td>\n",
       "    </tr>\n",
       "    <tr>\n",
       "      <th>min</th>\n",
       "      <td>0.000000</td>\n",
       "      <td>1.000000</td>\n",
       "    </tr>\n",
       "    <tr>\n",
       "      <th>25%</th>\n",
       "      <td>6.000000</td>\n",
       "      <td>5.000000</td>\n",
       "    </tr>\n",
       "    <tr>\n",
       "      <th>50%</th>\n",
       "      <td>8.000000</td>\n",
       "      <td>6.000000</td>\n",
       "    </tr>\n",
       "    <tr>\n",
       "      <th>75%</th>\n",
       "      <td>10.000000</td>\n",
       "      <td>6.000000</td>\n",
       "    </tr>\n",
       "    <tr>\n",
       "      <th>max</th>\n",
       "      <td>10.000000</td>\n",
       "      <td>6.000000</td>\n",
       "    </tr>\n",
       "  </tbody>\n",
       "</table>\n",
       "</div>"
      ],
      "text/plain": [
       "       Schedule Pace Rating  Overall Satisfaction Rating\n",
       "count            272.000000                   272.000000\n",
       "mean               7.349265                     5.349265\n",
       "std                2.383693                     1.123089\n",
       "min                0.000000                     1.000000\n",
       "25%                6.000000                     5.000000\n",
       "50%                8.000000                     6.000000\n",
       "75%               10.000000                     6.000000\n",
       "max               10.000000                     6.000000"
      ]
     },
     "execution_count": 123,
     "metadata": {},
     "output_type": "execute_result"
    }
   ],
   "source": [
    "detract_only = ssot[(ssot['Net Promoter Status'] == 'Detractor')]\n",
    "detract_only.describe()"
   ]
  },
  {
   "cell_type": "markdown",
   "metadata": {},
   "source": [
    "**So** our averages come out to ~8.2 for promoters, ~8.0 for passives, and ~7.3 for detractors. You probably don't need any help visualizing it, but let's visualize it anyway! :D"
   ]
  },
  {
   "cell_type": "code",
   "execution_count": 124,
   "metadata": {},
   "outputs": [
    {
     "data": {
      "text/plain": [
       "<matplotlib.axes._subplots.AxesSubplot at 0x1a1ac8d240>"
      ]
     },
     "execution_count": 124,
     "metadata": {},
     "output_type": "execute_result"
    },
    {
     "data": {
      "image/png": "[encoded data removed]",
      "text/plain": [
       "<Figure size 842.4x595.44 with 1 Axes>"
      ]
     },
     "metadata": {},
     "output_type": "display_data"
    }
   ],
   "source": [
    "avgs = {'Averages': [8.225583, 8.005941, 7.349265], 'Net Promoter Status': ['Promoters', 'Passives', 'Detractors']}\n",
    "avgs_df = pd.DataFrame(avgs, columns=['Averages', 'Net Promoter Status'])\n",
    "sns.barplot(x='Net Promoter Status', y='Averages', data=avgs_df)"
   ]
  },
  {
   "cell_type": "markdown",
   "metadata": {},
   "source": [
    "## How many promoters were from each track?"
   ]
  },
  {
   "cell_type": "markdown",
   "metadata": {},
   "source": [
    "### Seaborn"
   ]
  },
  {
   "cell_type": "code",
   "execution_count": 78,
   "metadata": {},
   "outputs": [
    {
     "data": {
      "text/plain": [
       "<matplotlib.axes._subplots.AxesSubplot at 0x1a1b210438>"
      ]
     },
     "execution_count": 78,
     "metadata": {},
     "output_type": "execute_result"
    },
    {
     "data": {
      "image/png": "[encoded data removed]",
      "text/plain": [
       "<Figure size 842.4x595.44 with 1 Axes>"
      ]
     },
     "metadata": {},
     "output_type": "display_data"
    }
   ],
   "source": [
    "sns.set(rc={'figure.figsize':(11.7,8.27)})\n",
    "\n",
    "promo_only = ssot[(ssot['Net Promoter Status'] == 'Promoter')]\n",
    "sns.countplot(x='Track', data=promo_only)"
   ]
  },
  {
   "cell_type": "markdown",
   "metadata": {},
   "source": [
    "## How many detractors were from each track?"
   ]
  },
  {
   "cell_type": "code",
   "execution_count": 79,
   "metadata": {},
   "outputs": [
    {
     "data": {
      "text/plain": [
       "<matplotlib.axes._subplots.AxesSubplot at 0x1a1b3d1cc0>"
      ]
     },
     "execution_count": 79,
     "metadata": {},
     "output_type": "execute_result"
    },
    {
     "data": {
      "image/png": "[encoded data removed]",
      "text/plain": [
       "<Figure size 842.4x595.44 with 1 Axes>"
      ]
     },
     "metadata": {},
     "output_type": "display_data"
    }
   ],
   "source": [
    "detract_only = ssot[(ssot['Net Promoter Status'] == 'Detractor')]\n",
    "sns.countplot(x='Track', data=detract_only)"
   ]
  },
  {
   "cell_type": "markdown",
   "metadata": {},
   "source": [
    "## How did Overall Satisfaction Rating change between 2016 and 2017 for individuals on the Apps track?"
   ]
  },
  {
   "cell_type": "markdown",
   "metadata": {},
   "source": [
    "### 2016"
   ]
  },
  {
   "cell_type": "code",
   "execution_count": 65,
   "metadata": {},
   "outputs": [
    {
     "data": {
      "text/plain": [
       "<matplotlib.axes._subplots.AxesSubplot at 0x1a1a36aa20>"
      ]
     },
     "execution_count": 65,
     "metadata": {},
     "output_type": "execute_result"
    },
    {
     "data": {
      "image/png": "[encoded data removed]",
      "text/plain": [
       "<Figure size 432x288 with 1 Axes>"
      ]
     },
     "metadata": {
      "needs_background": "light"
     },
     "output_type": "display_data"
    }
   ],
   "source": [
    "apps2016 = ssot[(ssot['Year']=='2016') & (ssot['Track']=='Apps')]\n",
    "apps2016['Overall Satisfaction Rating'].plot.box()"
   ]
  },
  {
   "cell_type": "markdown",
   "metadata": {},
   "source": [
    "### 2017"
   ]
  },
  {
   "cell_type": "code",
   "execution_count": 67,
   "metadata": {},
   "outputs": [
    {
     "data": {
      "text/plain": [
       "<matplotlib.axes._subplots.AxesSubplot at 0x1a1a71b0f0>"
      ]
     },
     "execution_count": 67,
     "metadata": {},
     "output_type": "execute_result"
    },
    {
     "data": {
      "image/png": "[encoded data removed]",
      "text/plain": [
       "<Figure size 432x288 with 1 Axes>"
      ]
     },
     "metadata": {
      "needs_background": "light"
     },
     "output_type": "display_data"
    }
   ],
   "source": [
    "apps2017 = ssot[(ssot['Year']=='2017') & (ssot['Track']=='Apps')]\n",
    "apps2017['Overall Satisfaction Rating'].plot.box()"
   ]
  },
  {
   "cell_type": "markdown",
   "metadata": {},
   "source": [
    "### Now everyone together! lol"
   ]
  },
  {
   "cell_type": "code",
   "execution_count": 59,
   "metadata": {},
   "outputs": [
    {
     "data": {
      "text/plain": [
       "Year\n",
       "2016    AxesSubplot(0.125,0.125;0.775x0.755)\n",
       "2017    AxesSubplot(0.125,0.125;0.775x0.755)\n",
       "Name: Overall Satisfaction Rating, dtype: object"
      ]
     },
     "execution_count": 59,
     "metadata": {},
     "output_type": "execute_result"
    },
    {
     "data": {
      "image/png": "[encoded data removed]",
      "text/plain": [
       "<Figure size 432x288 with 1 Axes>"
      ]
     },
     "metadata": {
      "needs_background": "light"
     },
     "output_type": "display_data"
    }
   ],
   "source": [
    "ssot[ssot['Track']=='Apps'].groupby('Year')['Overall Satisfaction Rating']\\\n",
    ".plot(bins=8, kind='hist', legend=True, alpha=0.25)"
   ]
  },
  {
   "cell_type": "markdown",
   "metadata": {},
   "source": [
    "## When looking at both 2016 and 2017, what trends can we observe in Overall Satisfaction Rating from week to week?"
   ]
  },
  {
   "cell_type": "code",
   "execution_count": 119,
   "metadata": {},
   "outputs": [
    {
     "data": {
      "text/plain": [
       "<matplotlib.axes._subplots.AxesSubplot at 0x1a1a8f5eb8>"
      ]
     },
     "execution_count": 119,
     "metadata": {},
     "output_type": "execute_result"
    },
    {
     "data": {
      "image/png": "[encoded data removed]",
      "text/plain": [
       "<Figure size 842.4x595.44 with 1 Axes>"
      ]
     },
     "metadata": {},
     "output_type": "display_data"
    }
   ],
   "source": [
    "sns.violinplot(x=\"Week\", y=\"Overall Satisfaction Rating\", data=ssot)"
   ]
  },
  {
   "cell_type": "code",
   "execution_count": null,
   "metadata": {},
   "outputs": [],
   "source": []
  }
 ],
 "metadata": {
  "kernelspec": {
   "display_name": "Python 3",
   "language": "python",
   "name": "python3"
  },
  "language_info": {
   "codemirror_mode": {
    "name": "ipython",
    "version": 3
   },
   "file_extension": ".py",
   "mimetype": "text/x-python",
   "name": "python",
   "nbconvert_exporter": "python",
   "pygments_lexer": "ipython3",
   "version": "3.7.1"
  }
 },
 "nbformat": 4,
 "nbformat_minor": 2
}
