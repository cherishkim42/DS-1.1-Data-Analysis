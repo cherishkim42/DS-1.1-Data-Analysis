{
 "cells": [
  {
   "cell_type": "code",
   "execution_count": 2,
   "metadata": {},
   "outputs": [],
   "source": [
    "from scipy import stats\n",
    "import math\n",
    "import csv\n",
    "import numpy as np\n",
    "import pandas as pd\n",
    "import seaborn as sns\n",
    "import matplotlib.pyplot as plt"
   ]
  },
  {
   "cell_type": "markdown",
   "metadata": {},
   "source": [
    "# Single Source of Truth\n",
    "\n",
    "The cleaning process was *messy* and generated hundreds of lines of code. So I took my Single Source of Truth, named **ssot**, and saved it in the same folder as the original dataset CSVs:\n",
    "\n",
    "**ssot.to_pickle('./ssot.pkl')**\n",
    "\n",
    "To open a dataset saved with **to_pickle** in a new notebook, you use terminal (in the new notebook, of course) to get to the right directory and then type:\n",
    "\n",
    "**variable_name = pd.read_pickle('./ssot.pkl')**"
   ]
  },
  {
   "cell_type": "code",
   "execution_count": 10,
   "metadata": {},
   "outputs": [
    {
     "name": "stdout",
     "output_type": "stream",
     "text": [
      "/Users/cherishkim/Code/school_projects/DS11/Assignments/DS/NPS Project/SA/CSVs\n"
     ]
    }
   ],
   "source": [
    "cd CSVs"
   ]
  },
  {
   "cell_type": "code",
   "execution_count": 24,
   "metadata": {},
   "outputs": [
    {
     "data": {
      "text/html": [
       "<div>\n",
       "<style scoped>\n",
       "    .dataframe tbody tr th:only-of-type {\n",
       "        vertical-align: middle;\n",
       "    }\n",
       "\n",
       "    .dataframe tbody tr th {\n",
       "        vertical-align: top;\n",
       "    }\n",
       "\n",
       "    .dataframe thead th {\n",
       "        text-align: right;\n",
       "    }\n",
       "</style>\n",
       "<table border=\"1\" class=\"dataframe\">\n",
       "  <thead>\n",
       "    <tr style=\"text-align: right;\">\n",
       "      <th></th>\n",
       "      <th>Year</th>\n",
       "      <th>Week</th>\n",
       "      <th>Track</th>\n",
       "      <th>Location</th>\n",
       "      <th>Schedule Pace Rating</th>\n",
       "      <th>Overall Satisfaction Rating</th>\n",
       "      <th>Net Promoter Status</th>\n",
       "    </tr>\n",
       "  </thead>\n",
       "  <tbody>\n",
       "    <tr>\n",
       "      <th>0</th>\n",
       "      <td>2016</td>\n",
       "      <td>Week 1</td>\n",
       "      <td>NaN</td>\n",
       "      <td>Los Angeles</td>\n",
       "      <td>8</td>\n",
       "      <td>6</td>\n",
       "      <td>Detractor</td>\n",
       "    </tr>\n",
       "    <tr>\n",
       "      <th>1</th>\n",
       "      <td>2016</td>\n",
       "      <td>Week 1</td>\n",
       "      <td>NaN</td>\n",
       "      <td>Los Angeles</td>\n",
       "      <td>8</td>\n",
       "      <td>8</td>\n",
       "      <td>Passive</td>\n",
       "    </tr>\n",
       "    <tr>\n",
       "      <th>2</th>\n",
       "      <td>2016</td>\n",
       "      <td>Week 1</td>\n",
       "      <td>NaN</td>\n",
       "      <td>Los Angeles</td>\n",
       "      <td>8</td>\n",
       "      <td>8</td>\n",
       "      <td>Passive</td>\n",
       "    </tr>\n",
       "    <tr>\n",
       "      <th>3</th>\n",
       "      <td>2016</td>\n",
       "      <td>Week 1</td>\n",
       "      <td>NaN</td>\n",
       "      <td>Los Angeles</td>\n",
       "      <td>8</td>\n",
       "      <td>8</td>\n",
       "      <td>Passive</td>\n",
       "    </tr>\n",
       "    <tr>\n",
       "      <th>4</th>\n",
       "      <td>2016</td>\n",
       "      <td>Week 1</td>\n",
       "      <td>NaN</td>\n",
       "      <td>Los Angeles</td>\n",
       "      <td>10</td>\n",
       "      <td>8</td>\n",
       "      <td>Passive</td>\n",
       "    </tr>\n",
       "  </tbody>\n",
       "</table>\n",
       "</div>"
      ],
      "text/plain": [
       "   Year    Week Track     Location  Schedule Pace Rating  \\\n",
       "0  2016  Week 1   NaN  Los Angeles                     8   \n",
       "1  2016  Week 1   NaN  Los Angeles                     8   \n",
       "2  2016  Week 1   NaN  Los Angeles                     8   \n",
       "3  2016  Week 1   NaN  Los Angeles                     8   \n",
       "4  2016  Week 1   NaN  Los Angeles                    10   \n",
       "\n",
       "   Overall Satisfaction Rating Net Promoter Status  \n",
       "0                            6           Detractor  \n",
       "1                            8             Passive  \n",
       "2                            8             Passive  \n",
       "3                            8             Passive  \n",
       "4                            8             Passive  "
      ]
     },
     "execution_count": 24,
     "metadata": {},
     "output_type": "execute_result"
    }
   ],
   "source": [
    "ssot = pd.read_pickle('./ssot.pkl')\n",
    "ssot.head()"
   ]
  },
  {
   "cell_type": "markdown",
   "metadata": {},
   "source": [
    "# NPS Calculation\n",
    "\n",
    "The formula for Net Promoter Score is as follows:\n",
    "\n",
    "**((# of promoters) - (# of detractors)) / (# of total responses)) * 100**"
   ]
  },
  {
   "cell_type": "code",
   "execution_count": 21,
   "metadata": {},
   "outputs": [
    {
     "data": {
      "text/plain": [
       "35.92789840229414"
      ]
     },
     "execution_count": 21,
     "metadata": {},
     "output_type": "execute_result"
    }
   ],
   "source": [
    "promo = len(ssot[(ssot['Net Promoter Status']=='Promoter')])\n",
    "detract = len(ssot[(ssot['Net Promoter Status']=='Detractor')])\n",
    "total = len(ssot)\n",
    "((promo - detract)/total) * 100"
   ]
  },
  {
   "cell_type": "markdown",
   "metadata": {},
   "source": [
    "# Question Time!\n",
    "\n",
    "***PROBABILITY?***\n",
    "\n",
    "Columns:\n",
    "* Year\n",
    "* Week\n",
    "* Track\n",
    "* Location\n",
    "* Schedule Pace Rating\n",
    "* Overall Satisfaction Rating\n",
    "* NPS\n",
    "\n",
    "Questions:\n",
    "1. Did percentage of promoters increase/decrease from 2016 to 2017?\n",
    "1. Which \n",
    "\n",
    "\n",
    "Q2: Which weeks on both years yield the most promoters?\n",
    "\n",
    "Q3: Of those promoters, how many were on the intro track?\n",
    "\n",
    "Q4: And how many were on the app track?\n",
    "\n",
    "Q5: And how many were on the games track?\n",
    "\n",
    "Q6: Which weeks on both years yield the most detractors?\n",
    "\n",
    "Q7: Of those detractors, how many were on the intro track?\n",
    "\n",
    "Q8: And how many were on the app track?\n",
    "\n",
    "Q9: And how many were on the games track?"
   ]
  },
  {
   "cell_type": "markdown",
   "metadata": {},
   "source": [
    "## (Thanks, Kash!) Did percentage of promoters increase or decrease from 2016 to 2017?"
   ]
  },
  {
   "cell_type": "code",
   "execution_count": 22,
   "metadata": {},
   "outputs": [
    {
     "data": {
      "text/plain": [
       "Year\n",
       "2016    AxesSubplot(0.125,0.125;0.775x0.755)\n",
       "2017    AxesSubplot(0.125,0.125;0.775x0.755)\n",
       "Name: Overall Satisfaction Rating, dtype: object"
      ]
     },
     "execution_count": 22,
     "metadata": {},
     "output_type": "execute_result"
    },
    {
     "data": {
      "image/png": "[encoded data removed]",
      "text/plain": [
       "<Figure size 432x288 with 1 Axes>"
      ]
     },
     "metadata": {
      "needs_background": "light"
     },
     "output_type": "display_data"
    }
   ],
   "source": [
    "ssot[ssot['Track']=='Apps'].groupby('Year')['Overall Satisfaction Rating']\\\n",
    ".plot(bins=16, kind='hist', legend=True, alpha=0.5)"
   ]
  },
  {
   "cell_type": "markdown",
   "metadata": {},
   "source": [
    "## Which weeks"
   ]
  },
  {
   "cell_type": "markdown",
   "metadata": {},
   "source": []
  },
  {
   "cell_type": "markdown",
   "metadata": {},
   "source": []
  },
  {
   "cell_type": "markdown",
   "metadata": {},
   "source": []
  },
  {
   "cell_type": "markdown",
   "metadata": {},
   "source": []
  },
  {
   "cell_type": "code",
   "execution_count": null,
   "metadata": {},
   "outputs": [],
   "source": []
  },
  {
   "cell_type": "code",
   "execution_count": null,
   "metadata": {},
   "outputs": [],
   "source": []
  }
 ],
 "metadata": {
  "kernelspec": {
   "display_name": "Python 3",
   "language": "python",
   "name": "python3"
  },
  "language_info": {
   "codemirror_mode": {
    "name": "ipython",
    "version": 3
   },
   "file_extension": ".py",
   "mimetype": "text/x-python",
   "name": "python",
   "nbconvert_exporter": "python",
   "pygments_lexer": "ipython3",
   "version": "3.7.1"
  }
 },
 "nbformat": 4,
 "nbformat_minor": 2
}
